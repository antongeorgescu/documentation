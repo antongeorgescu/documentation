{
 "cells": [
  {
   "cell_type": "code",
   "execution_count": 27,
   "metadata": {},
   "outputs": [],
   "source": [
    "import nbformat,sys,os\n",
    "from nbconvert.preprocessors import ExecutePreprocessor"
   ]
  },
  {
   "cell_type": "code",
   "execution_count": 28,
   "metadata": {},
   "outputs": [
    {
     "name": "stdout",
     "output_type": "stream",
     "text": [
      "Current notebook : C:\\Users\\ag4488\\Documents\\Visual Studio 2017\\Projects\\Machine-Learning\\Demos for Presentations\\WineQualityAnalysis_KNN_Correlation.ipynb\n",
      "Current notebook : C:\\Users\\ag4488\\Documents\\Visual Studio 2017\\Projects\\Machine-Learning\\Demos for Presentations\\WineQualityAnalysis_LogisticRegression_Correlation.ipynb\n",
      "Current notebook : C:\\Users\\ag4488\\Documents\\Visual Studio 2017\\Projects\\Machine-Learning\\Demos for Presentations\\Wine_Quality_Prediction_with_SVM.ipynb\n",
      "Current notebook : C:\\Users\\ag4488\\Documents\\Visual Studio 2017\\Projects\\Machine-Learning\\Demos for Presentations\\WineQualityAnalysis_NaiveBayes_Correlation.ipynb\n",
      "Current notebook : C:\\Users\\ag4488\\Documents\\Visual Studio 2017\\Projects\\Machine-Learning\\Demos for Presentations\\WineQualityAnalysis_DecisionTree_Correlation.ipynb\n",
      "Current notebook : C:\\Users\\ag4488\\Documents\\Visual Studio 2017\\Projects\\Machine-Learning\\Demos for Presentations\\WineQualityAnalysis_RandomForest_Correlation.ipynb\n"
     ]
    }
   ],
   "source": [
    "notebooks = ['WineQualityAnalysis_KNN_Correlation.ipynb',\n",
    "                'WineQualityAnalysis_LogisticRegression_Correlation.ipynb',\n",
    "                'Wine_Quality_Prediction_with_SVM.ipynb',\n",
    "                'WineQualityAnalysis_NaiveBayes_Correlation.ipynb',\n",
    "                'WineQualityAnalysis_DecisionTree_Correlation.ipynb',\n",
    "                'WineQualityAnalysis_RandomForest_Correlation.ipynb'\n",
    "            ]\n",
    "nbdir = os.getcwd()\n",
    "\n",
    "# remove the summary file and re-create it\n",
    "## If file exists, delete it ##\n",
    "if os.path.isfile(f'{nbdir}\\\\ModelsFitness.txt'):\n",
    "    os.remove(f'{nbdir}\\\\ModelsFitness.txt')\n",
    "else:    ## Show an error ##\n",
    "    print(\"Error: %s file not found\" % f'{nbdir}\\\\ModelsFitness.txt')\n",
    "\n",
    "ep = ExecutePreprocessor(timeout=600, kernel_name='python3')\n",
    "\n",
    "for index in range(len(notebooks)):\n",
    "    nbpath = f'{nbdir}\\\\{notebooks[index]}'\n",
    "    print('Current notebook :', nbpath)\n",
    "    nb = nbformat.read(open(nbpath), as_version=4)\n",
    "    ep.preprocess(nb, {'metadata': {nbdir: 'notebooks/'}})\n",
    "    nbformat.write(nb, open('executed_notebook.ipynb', mode='wt'))\n",
    "   \n"
   ]
  },
  {
   "cell_type": "code",
   "execution_count": 42,
   "metadata": {},
   "outputs": [
    {
     "name": "stdout",
     "output_type": "stream",
     "text": [
      "['Wine Quality Analysis with K-Nearest Neighbours', 'Accuracy: 0.5650', 'F1-Score: 0.5650']\n",
      "[]\n",
      "['Wine Quality Analysis with Logistic Regression', 'Accuracy: 0.5514', 'F1-Score: 0.5514']\n",
      "[]\n",
      "['Wine Quality Analysis with Support Vector Machine', 'Accuracy: 0.5710', 'F1-Score: 0.5710']\n",
      "[]\n",
      "['Wine Quality Analysis with Naive Bayes', 'Accuracy: 0.4960', 'F1-Score: 0.4960']\n",
      "[]\n",
      "['Wine Quality Analysis with Decision Tree', 'Accuracy: 0.5410', 'F1-Score: 0.5410']\n",
      "[]\n",
      "['Wine Quality Analysis with Random Forest', 'Accuracy: 0.5618', 'F1-Score: 0.5618']\n",
      "[]\n"
     ]
    }
   ],
   "source": [
    "# read the summary file for comparison purposes    \n",
    "\n",
    "import csv\n",
    "with open(f'{nbdir}\\\\ModelsFitness.txt', 'r') as f:\n",
    "    reader = csv.reader(f, dialect='excel-tab')\n",
    "    for row in reader:\n",
    "        print(row)"
   ]
  },
  {
   "cell_type": "code",
   "execution_count": null,
   "metadata": {},
   "outputs": [],
   "source": []
  },
  {
   "cell_type": "code",
   "execution_count": null,
   "metadata": {},
   "outputs": [],
   "source": []
  }
 ],
 "metadata": {
  "kernelspec": {
   "display_name": "Python 3",
   "language": "python",
   "name": "python3"
  },
  "language_info": {
   "codemirror_mode": {
    "name": "ipython",
    "version": 3
   },
   "file_extension": ".py",
   "mimetype": "text/x-python",
   "name": "python",
   "nbconvert_exporter": "python",
   "pygments_lexer": "ipython3",
   "version": "3.7.1"
  }
 },
 "nbformat": 4,
 "nbformat_minor": 2
}
