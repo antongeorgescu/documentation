{
 "cells": [
  {
   "cell_type": "code",
   "execution_count": 2,
   "metadata": {},
   "outputs": [
    {
     "name": "stdout",
     "output_type": "stream",
     "text": [
      "(1599, 13)\n",
      "(4898, 13)\n",
      "['fixed acidity', 'volatile acidity', 'citric acid', 'residual sugar', 'chlorides', 'free sulfur dioxide', 'total sulfur dioxide', 'density', 'pH', 'sulphates', 'alcohol', 'quality', 'color']\n"
     ]
    }
   ],
   "source": [
    "import pandas as pd\n",
    "import numpy as np\n",
    "\n",
    "# read red wine set of observations\n",
    "data_red = pd.read_csv(\"C:/Users/ag4488/Documents/Python/svm-classification-with-pytorch/data/winequality-red.csv\",sep=',')\n",
    "data_red['color'] = 1 #redwine\n",
    "\n",
    "print(data_red.shape)\n",
    "\n",
    "# read white wine set of observations\n",
    "data_white = pd.read_csv(\"C:/Users/ag4488/Documents/Python/svm-classification-with-pytorch/data/winequality-white.csv\",sep=',')\n",
    "data_white['color'] = 0 #whitewine\n",
    "\n",
    "print(data_white.shape)\n",
    "\n",
    "# merge the two sets in one\n",
    "data = data_red.merge(data_white, how='outer')\n",
    "fields = list(data.columns)\n",
    "print(fields)"
   ]
  },
  {
   "cell_type": "code",
   "execution_count": 3,
   "metadata": {},
   "outputs": [
    {
     "data": {
      "text/plain": [
       "<Figure size 1000x1000 with 16 Axes>"
      ]
     },
     "metadata": {},
     "output_type": "display_data"
    }
   ],
   "source": [
    "import matplotlib.pyplot as plt\n",
    "import seaborn as sns\n",
    "\n",
    "# show the histograms of values per feature (eg most of whines are at about 8 proof strength)\n",
    "sns.set()\n",
    "data.hist(figsize=(10,10),color='red', bins=13)\n",
    "plt.show()"
   ]
  },
  {
   "cell_type": "code",
   "execution_count": 4,
   "metadata": {},
   "outputs": [
    {
     "data": {
      "image/png": "[encoded data removed]",
      "text/plain": [
       "<Figure size 432x288 with 1 Axes>"
      ]
     },
     "metadata": {
      "needs_background": "light"
     },
     "output_type": "display_data"
    }
   ],
   "source": [
    "# show the historgram of wine rankings (quality between 1 and 10)\n",
    "data['quality'].hist(color='red', bins=13)\n",
    "plt.show()"
   ]
  },
  {
   "cell_type": "code",
   "execution_count": 5,
   "metadata": {},
   "outputs": [
    {
     "name": "stdout",
     "output_type": "stream",
     "text": [
      "(1599, 13)\n",
      "(4898, 13)\n"
     ]
    }
   ],
   "source": [
    "import pandas as pd\n",
    "import numpy as np\n",
    "\n",
    "data_red = pd.read_csv(\"C:/Users/ag4488/Documents/Python/svm-classification-with-pytorch/data/winequality-red.csv\",sep=',')\n",
    "data_red['color'] = 1 #redwine\n",
    "\n",
    "print(data_red.shape)\n",
    "\n",
    "data_white = pd.read_csv(\"C:/Users/ag4488/Documents/Python/svm-classification-with-pytorch/data/winequality-white.csv\",sep=',')\n",
    "data_white['color'] = 0 #whitewine\n",
    "\n",
    "print(data_white.shape)\n",
    "\n",
    "data = data_red.merge(data_white, how='outer')\n",
    "\n",
    "\n",
    "# based on the \"quality histograms\" above, we will drop the ratings with low counts (we will keep only 3 dimesnions = 5,6,7)\n",
    "data = data.drop(data[data.quality == 1].index)    # not recorded anyway\n",
    "data = data.drop(data[data.quality == 2].index)    # not recorded anyway\n",
    "data = data.drop(data[data.quality == 10].index)   # not recorded anyway\n",
    "data = data.drop(data[data.quality == 9].index)\n",
    "data = data.drop(data[data.quality == 3].index)\n",
    "data = data.drop(data[data.quality == 8].index)\n",
    "data = data.drop(data[data.quality == 4].index)"
   ]
  },
  {
   "cell_type": "code",
   "execution_count": 6,
   "metadata": {},
   "outputs": [
    {
     "data": {
      "text/plain": [
       "6    2836\n",
       "5    2138\n",
       "7    1079\n",
       "Name: quality, dtype: int64"
      ]
     },
     "execution_count": 6,
     "metadata": {},
     "output_type": "execute_result"
    }
   ],
   "source": [
    "data.quality.value_counts()"
   ]
  },
  {
   "cell_type": "code",
   "execution_count": 7,
   "metadata": {},
   "outputs": [
    {
     "name": "stdout",
     "output_type": "stream",
     "text": [
      "['fixed acidity', 'volatile acidity', 'citric acid', 'residual sugar', 'chlorides', 'free sulfur dioxide', 'total sulfur dioxide', 'density', 'pH', 'sulphates', 'alcohol', 'quality', 'color']\n"
     ]
    }
   ],
   "source": [
    "fields = list(data.columns)\n",
    "print(fields)"
   ]
  },
  {
   "cell_type": "code",
   "execution_count": 8,
   "metadata": {},
   "outputs": [
    {
     "name": "stdout",
     "output_type": "stream",
     "text": [
      "['fixed acidity', 'volatile acidity', 'citric acid', 'residual sugar', 'chlorides', 'free sulfur dioxide', 'total sulfur dioxide', 'density', 'pH', 'sulphates', 'alcohol', 'color']\n"
     ]
    }
   ],
   "source": [
    "# split the data set in two: 1) color+features (observations)  2) quality (actuals)\n",
    "\n",
    "fields = list(data.columns[:-2])\n",
    "fields.append('color')  #adding color back\n",
    "X = data[fields]\n",
    "y = data['quality']\n",
    "print(fields)"
   ]
  },
  {
   "cell_type": "markdown",
   "metadata": {},
   "source": [
    "A Pearson correlation was used to identify which features correlate with wine quality. It looks as if higher the alcohol content the higher the quality. Lower density and volatile acidity also correlated with better quality as seen in the pairwise correlation chart the chart below. Only the top 5 correlated features were carried over to the KNN models."
   ]
  },
  {
   "cell_type": "code",
   "execution_count": 9,
   "metadata": {},
   "outputs": [
    {
     "name": "stdout",
     "output_type": "stream",
     "text": [
      "Index(['color', 'chlorides', 'volatile acidity', 'density', 'alcohol'], dtype='object')\n"
     ]
    }
   ],
   "source": [
    "correlations = data[fields].corrwith(y)\n",
    "correlations.sort_values(inplace=True)\n",
    "\n",
    "# the following fields are the 5 retained as having the highest correlations to wine quality\n",
    "fields = correlations.map(abs).sort_values().iloc[-5:].index\n",
    "print(fields) #prints the top two abs correlations"
   ]
  },
  {
   "cell_type": "code",
   "execution_count": 10,
   "metadata": {},
   "outputs": [
    {
     "data": {
      "text/plain": [
       "[(-1, 1), Text(0, 0.5, 'pearson correlation')]"
      ]
     },
     "execution_count": 10,
     "metadata": {},
     "output_type": "execute_result"
    },
    {
     "data": {
      "image/png": "[encoded data removed]",
      "text/plain": [
       "<Figure size 432x288 with 1 Axes>"
      ]
     },
     "metadata": {
      "needs_background": "light"
     },
     "output_type": "display_data"
    }
   ],
   "source": [
    "import matplotlib.pyplot as plt\n",
    "import seaborn as sns\n",
    "\n",
    "# The figure below shows Pearson Pairwise correlation of features to wine quality.\n",
    "# Looks like alcohol and density are the most correlated with quality\n",
    "ax = correlations.plot(kind='bar')\n",
    "ax.set(ylim=[-1, 1], ylabel='pearson correlation')"
   ]
  },
  {
   "cell_type": "code",
   "execution_count": 11,
   "metadata": {},
   "outputs": [
    {
     "name": "stdout",
     "output_type": "stream",
     "text": [
      "Index(['color_scaled', 'chlorides_scaled', 'volatile acidity_scaled',\n",
      "       'density_scaled', 'alcohol_scaled'],\n",
      "      dtype='object')\n"
     ]
    },
    {
     "name": "stderr",
     "output_type": "stream",
     "text": [
      "C:\\ProgramData\\Anaconda3\\lib\\site-packages\\sklearn\\preprocessing\\data.py:323: DataConversionWarning: Data with input dtype int64, float64 were all converted to float64 by MinMaxScaler.\n",
      "  return self.partial_fit(X, y)\n"
     ]
    }
   ],
   "source": [
    "from sklearn.preprocessing import MinMaxScaler\n",
    "\n",
    "X = data[fields]\n",
    "\n",
    "scaler = MinMaxScaler()\n",
    "X = scaler.fit_transform(X)\n",
    "X = pd.DataFrame(X, columns=['%s_scaled' % fld for fld in fields])\n",
    "print(X.columns) #scaled columns"
   ]
  },
  {
   "cell_type": "markdown",
   "metadata": {},
   "source": [
    "We will run now K-Nearest Neighbour (KNN) algorithm to create a \"prediction model\"\n",
    "\n",
    "Since the data captured is in different magnitude ranges, it is generally a good idea to scale so one feature doesn’t get more influence than the other (in terms of scale)."
   ]
  },
  {
   "cell_type": "code",
   "execution_count": 12,
   "metadata": {},
   "outputs": [],
   "source": [
    "from sklearn import svm\n",
    "from sklearn.utils import shuffle\n",
    "from sklearn.model_selection import train_test_split\n",
    "#from sklearn.model_selection import GridSearchCV\n",
    "\n",
    "# we will split the data in training (70%) and testing (30%) whihc is the usual ratio\n",
    "X_train, X_test, y_train, y_test = train_test_split(X, y, test_size=0.3, random_state=10)"
   ]
  },
  {
   "cell_type": "code",
   "execution_count": 13,
   "metadata": {},
   "outputs": [
    {
     "name": "stdout",
     "output_type": "stream",
     "text": [
      "[7 6 7 ... 5 6 5]       color_scaled  chlorides_scaled  volatile acidity_scaled  density_scaled  \\\n",
      "4744           0.0          0.048173                    0.200        0.083285   \n",
      "647            1.0          0.101329                    0.280        0.256217   \n",
      "2173           0.0          0.061462                    0.080        0.138616   \n",
      "2107           0.0          0.059801                    0.168        0.194525   \n",
      "799            1.0          0.176080                    0.464        0.176981   \n",
      "3810           0.0          0.038206                    0.208        0.087719   \n",
      "1034           1.0          0.106312                    0.240        0.187777   \n",
      "1053           1.0          0.102990                    0.328        0.130519   \n",
      "2662           0.0          0.214286                    0.064        0.125120   \n",
      "1077           1.0          0.142857                    0.280        0.217660   \n",
      "3726           0.0          0.038206                    0.264        0.108541   \n",
      "3889           0.0          0.083056                    0.208        0.174282   \n",
      "4654           0.0          0.036545                    0.176        0.046077   \n",
      "263            1.0          0.129568                    0.256        0.231155   \n",
      "3343           0.0          0.076412                    0.096        0.256217   \n",
      "5377           0.0          0.064784                    0.200        0.064392   \n",
      "5170           0.0          0.275748                    0.232        0.102757   \n",
      "3208           0.0          0.073090                    0.112        0.211876   \n",
      "3498           0.0          0.129568                    0.328        0.148255   \n",
      "149            1.0          0.102990                    0.280        0.196453   \n",
      "1937           0.0          0.064784                    0.264        0.213804   \n",
      "4618           0.0          0.059801                    0.088        0.121457   \n",
      "2255           0.0          0.068106                    0.184        0.176210   \n",
      "5363           0.0          0.068106                    0.128        0.182765   \n",
      "1178           1.0          0.107973                    0.588        0.175439   \n",
      "5245           0.0          0.048173                    0.088        0.160979   \n",
      "5821           0.0          0.043189                    0.224        0.030268   \n",
      "1112           1.0          0.114618                    0.564        0.189127   \n",
      "3539           0.0          0.083056                    0.152        0.140544   \n",
      "181            1.0          0.149502                    0.440        0.188741   \n",
      "...            ...               ...                      ...             ...   \n",
      "5879           0.0          0.069767                    0.100        0.164450   \n",
      "277            1.0          0.141196                    0.208        0.275496   \n",
      "5982           0.0          0.054817                    0.120        0.184885   \n",
      "2957           0.0          0.059801                    0.136        0.163678   \n",
      "1045           1.0          0.179402                    0.516        0.181993   \n",
      "2089           0.0          0.063123                    0.120        0.206092   \n",
      "4432           0.0          0.049834                    0.104        0.169462   \n",
      "213            1.0          0.106312                    0.280        0.174282   \n",
      "1203           1.0          0.119601                    0.296        0.195682   \n",
      "4241           0.0          0.019934                    0.184        0.063042   \n",
      "1277           1.0          0.124585                    0.344        0.159437   \n",
      "408            1.0          0.059801                    0.472        0.150183   \n",
      "1123           1.0          0.116279                    0.224        0.193754   \n",
      "1532           0.0          0.051495                    0.272        0.252362   \n",
      "1235           1.0          0.089701                    0.416        0.092539   \n",
      "3975           0.0          0.054817                    0.184        0.114324   \n",
      "5038           0.0          0.071429                    0.264        0.144399   \n",
      "5738           0.0          0.068106                    0.096        0.125120   \n",
      "4251           0.0          0.011628                    0.240        0.057066   \n",
      "3152           0.0          0.106312                    0.120        0.217660   \n",
      "1467           1.0          0.064784                    0.416        0.114710   \n",
      "1353           1.0          0.116279                    0.368        0.163678   \n",
      "4284           0.0          0.054817                    0.040        0.167727   \n",
      "114            1.0          0.280731                    0.792        0.175246   \n",
      "544            1.0          0.142857                    0.224        0.144399   \n",
      "3413           0.0          0.079734                    0.208        0.148255   \n",
      "174            1.0          0.169435                    0.184        0.192597   \n",
      "1518           0.0          0.059801                    0.152        0.267785   \n",
      "1192           1.0          0.116279                    0.416        0.154810   \n",
      "4638           0.0          0.071429                    0.200        0.182379   \n",
      "\n",
      "      alcohol_scaled  \n",
      "4744        0.782609  \n",
      "647         0.144928  \n",
      "2173        0.463768  \n",
      "2107        0.217391  \n",
      "799         0.333333  \n",
      "3810        0.623188  \n",
      "1034        0.217391  \n",
      "1053        0.579710  \n",
      "2662        0.173913  \n",
      "1077        0.289855  \n",
      "3726        0.217391  \n",
      "3889        0.434783  \n",
      "4654        0.681159  \n",
      "263         0.362319  \n",
      "3343        0.130435  \n",
      "5377        0.478261  \n",
      "5170        0.333333  \n",
      "3208        0.260870  \n",
      "3498        0.202899  \n",
      "149         0.362319  \n",
      "1937        0.260870  \n",
      "4618        0.217391  \n",
      "2255        0.144928  \n",
      "5363        0.188406  \n",
      "1178        0.405797  \n",
      "5245        0.391304  \n",
      "5821        0.695652  \n",
      "1112        0.289855  \n",
      "3539        0.275362  \n",
      "181         0.217391  \n",
      "...              ...  \n",
      "5879        0.405797  \n",
      "277         0.217391  \n",
      "5982        0.173913  \n",
      "2957        0.173913  \n",
      "1045        0.405797  \n",
      "2089        0.115942  \n",
      "4432        0.333333  \n",
      "213         0.362319  \n",
      "1203        0.260870  \n",
      "4241        0.507246  \n",
      "1277        0.362319  \n",
      "408         0.492754  \n",
      "1123        0.217391  \n",
      "1532        0.246377  \n",
      "1235        0.608696  \n",
      "3975        0.231884  \n",
      "5038        0.173913  \n",
      "5738        0.202899  \n",
      "4251        0.637681  \n",
      "3152        0.101449  \n",
      "1467        0.594203  \n",
      "1353        0.492754  \n",
      "4284        0.391304  \n",
      "114         0.144928  \n",
      "544         0.536232  \n",
      "3413        0.159420  \n",
      "174         0.246377  \n",
      "1518        0.115942  \n",
      "1192        0.420290  \n",
      "4638        0.217391  \n",
      "\n",
      "[1816 rows x 5 columns]\n"
     ]
    }
   ],
   "source": [
    "from sklearn.neighbors import KNeighborsClassifier\n",
    "\n",
    "# Instantiate KNN learning model (k=15)\n",
    "knn = KNeighborsClassifier(n_neighbors=5)\n",
    "\n",
    "# fit the model with training data\n",
    "knn.fit(X_train, y_train)\n",
    "\n",
    "# predict the wine rankings for the test data set\n",
    "y_pred = knn.predict(X_test)\n",
    "print(y_pred,X_test)\n"
   ]
  },
  {
   "cell_type": "markdown",
   "metadata": {},
   "source": [
    "### About Confusion Matrix\n",
    "\n",
    "A confusion matrix is a table that is often used to describe the performance of a classification model (or \"classifier\") \n",
    "on a set of test data for which the true values are known.\n",
    "\n",
    "Here is a set of the most basic terms, which are whole numbers (not rates):\n",
    "1. true positives (TP): These are cases in which we predicted \"yes\" where it is actually \"yes\".\n",
    "2. true negatives (TN): We predicted no, and it is actually \"no\".\n",
    "3. false positives (FP): We predicted \"yes\", and was actually \"no\" (Also known as a \"Type I error.\"\n",
    "4. false negatives (FN): We predicted \"no\", and was actually \"yes\". (Also known as a \"Type II error.\")\n",
    "    \n",
    "This is a list of rates that are often computed from a confusion matrix for a binary classifier:\n",
    "\n",
    "**Accuracy**: Overall, how often is the classifier correct? \n",
    "    <br>&emsp;accuracy = (TP+TN)/total\n",
    "\n",
    "**Misclassification Rate**: Overall, how often is it wrong? \n",
    "    <br>&emsp;misrate = (FP+FN)/total\n",
    "    <br>&emsp;equivalent to 1 minus Accuracy\n",
    "    <br>&emsp;also known as \"Error Rate\"\n",
    "\n",
    "**True Positive Rate**: When it's actually yes, how often does it predict yes? \n",
    "    <br>&emsp;tprate = TP/actual_yes\n",
    "    <br>&emsp;also known as \"Sensitivity\" or \"Recall\"\n",
    "\n",
    "**False Positive Rate**: When it's actually no, how often does it predict yes?\n",
    "    <br>&emsp;fprate = FP/actual_no\n",
    "\n",
    "**True Negative Rate**: When it's actually no, how often does it predict no? \n",
    "    <br>&emsp;tnrate = TN/actual_no\n",
    "    <br>&emsp;equivalent to 1 minus False Positive Rate\n",
    "    <br>&emsp;also known as \"Specificity\"\n",
    "\n",
    "**Precision**: When it predicts yes, how often is it correct? \n",
    "    <br>&emsp;precision = TP/predicted_yes\n",
    "\n",
    "**Prevalence**: How often does the yes condition actually occur in our sample? \n",
    "    <br>&emsp;prevalence = actual_yes/total\n",
    "    \n",
    "![Confusion Matrix - Theoretical Foundation](https://raw.githubusercontent.com/antongeorgescu/machine-learning-documentation/master/images/Confusion-Matrix-2.PNG) "
   ]
  },
  {
   "cell_type": "code",
   "execution_count": 14,
   "metadata": {},
   "outputs": [
    {
     "name": "stdout",
     "output_type": "stream",
     "text": [
      "Acc: 0.5650\n",
      "[[413 220  24]\n",
      " [253 481 115]\n",
      " [ 35 143 132]]\n"
     ]
    },
    {
     "data": {
      "image/png": "[encoded data removed]",
      "text/plain": [
       "<Figure size 432x288 with 2 Axes>"
      ]
     },
     "metadata": {
      "needs_background": "light"
     },
     "output_type": "display_data"
    }
   ],
   "source": [
    "from sklearn.metrics import accuracy_score, confusion_matrix\n",
    "\n",
    "# Calculate the accuracy of prediction\n",
    "# Get the accuracy score\n",
    "accuracy = accuracy_score(y_test, y_pred)\n",
    "print('Acc: {:.4f}'.format(accuracy))\n",
    "\n",
    "# Get the confusion matrix\n",
    "cm = confusion_matrix(y_test, y_pred)\n",
    "print(cm)\n",
    "cm = cm.astype('float') / cm.sum(axis=1)[:, np.newaxis]\n",
    "\n",
    "sns.heatmap(cm, annot=True, fmt='.2g');\n",
    "plt.title('Confusion matrix of the KNN classifier')    \n",
    "plt.tight_layout()"
   ]
  }
 ],
 "metadata": {
  "kernelspec": {
   "display_name": "Python 3",
   "language": "python",
   "name": "python3"
  },
  "language_info": {
   "codemirror_mode": {
    "name": "ipython",
    "version": 3
   },
   "file_extension": ".py",
   "mimetype": "text/x-python",
   "name": "python",
   "nbconvert_exporter": "python",
   "pygments_lexer": "ipython3",
   "version": "3.7.1"
  }
 },
 "nbformat": 4,
 "nbformat_minor": 2
}
