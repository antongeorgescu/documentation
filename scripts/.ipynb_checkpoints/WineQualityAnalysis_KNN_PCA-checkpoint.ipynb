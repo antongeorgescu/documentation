{
 "cells": [
  {
   "cell_type": "code",
   "execution_count": 1,
   "metadata": {
    "colab": {
     "base_uri": "https://localhost:8080/",
     "height": 92
    },
    "colab_type": "code",
    "id": "7Yo9kOIZhs_-",
    "outputId": "3f32d013-28a3-4cb6-f53e-c52830bfec02"
   },
   "outputs": [
    {
     "name": "stdout",
     "output_type": "stream",
     "text": [
      "(1599, 13)\n",
      "(4898, 13)\n",
      "['fixed acidity', 'volatile acidity', 'citric acid', 'residual sugar', 'chlorides', 'free sulfur dioxide', 'total sulfur dioxide', 'density', 'pH', 'sulphates', 'alcohol', 'quality', 'color']\n"
     ]
    }
   ],
   "source": [
    "import pandas as pd\n",
    "import numpy as np\n",
    "\n",
    "REDWINE_PATH = \"../datasets/winequality-red.csv\"\n",
    "WHITEWINE_PATH = \"../datasets/winequality-white.csv\"\n",
    "\n",
    "# try different number of dimensions to see the effect in accuracy \n",
    "DIM_NO = 3\n",
    "\n",
    "# timer start\n",
    "import time \n",
    "start = time.time()\n",
    "\n",
    "# read red wine set of observations\n",
    "data_red = pd.read_csv(REDWINE_PATH,sep=',')\n",
    "data_red['color'] = 1 #redwine\n",
    "\n",
    "print(data_red.shape)\n",
    "\n",
    "# read white wine set of observations\n",
    "data_white = pd.read_csv(WHITEWINE_PATH,sep=',')\n",
    "data_white['color'] = 0 #whitewine\n",
    "\n",
    "print(data_white.shape)\n",
    "\n",
    "# merge the two sets in one\n",
    "data = data_red.merge(data_white, how='outer')\n",
    "fields = list(data.columns)\n",
    "print(fields)"
   ]
  },
  {
   "cell_type": "code",
   "execution_count": 2,
   "metadata": {
    "colab": {
     "base_uri": "https://localhost:8080/",
     "height": 181
    },
    "colab_type": "code",
    "id": "D6lNNsPchtAP",
    "outputId": "a45f4b55-4049-421a-89eb-5a3e7c92acc6"
   },
   "outputs": [
    {
     "name": "stdout",
     "output_type": "stream",
     "text": [
      "All 'quality level' counts\n",
      "6    2836\n",
      "5    2138\n",
      "7    1079\n",
      "4     216\n",
      "8     193\n",
      "3      30\n",
      "9       5\n",
      "Name: quality, dtype: int64\n"
     ]
    }
   ],
   "source": [
    "# show the counts of all quality levels\n",
    "print(\"All 'quality level' counts\")\n",
    "print(data[\"quality\"].value_counts())"
   ]
  },
  {
   "cell_type": "code",
   "execution_count": 3,
   "metadata": {
    "colab": {
     "base_uri": "https://localhost:8080/",
     "height": 108
    },
    "colab_type": "code",
    "id": "uQxTlPaUhtAe",
    "outputId": "079861fb-e4bb-4243-83dc-797976c2628a"
   },
   "outputs": [
    {
     "name": "stdout",
     "output_type": "stream",
     "text": [
      "Selected 'quality level' counts\n",
      "6    2836\n",
      "5    2138\n",
      "7    1079\n",
      "Name: quality, dtype: int64\n"
     ]
    }
   ],
   "source": [
    "# based on the \"quality histograms\" above, we will drop the ratings with low counts (we will keep only 5,6,7)\n",
    "data = data.drop(data[data.quality == 9].index)\n",
    "data = data.drop(data[data.quality == 8].index)\n",
    "data = data.drop(data[data.quality == 3].index)\n",
    "data = data.drop(data[data.quality == 4].index)\n",
    "\n",
    "# show the counts of selected quality levels\n",
    "print(\"Selected 'quality level' counts\")\n",
    "print(data[\"quality\"].value_counts())"
   ]
  },
  {
   "cell_type": "code",
   "execution_count": 4,
   "metadata": {
    "colab": {
     "base_uri": "https://localhost:8080/",
     "height": 55
    },
    "colab_type": "code",
    "id": "1UGZhyd3htAo",
    "outputId": "23797d93-e195-4a3e-ccb1-ed270ae8d683"
   },
   "outputs": [
    {
     "name": "stdout",
     "output_type": "stream",
     "text": [
      "['fixed acidity', 'volatile acidity', 'citric acid', 'residual sugar', 'chlorides', 'free sulfur dioxide', 'total sulfur dioxide', 'density', 'pH', 'sulphates', 'alcohol', 'color']\n"
     ]
    }
   ],
   "source": [
    "# split the data set in two: 1) color+features (observations)  2) quality (actuals)\n",
    "\n",
    "# select the outcomes\n",
    "y = data['quality']\n",
    "\n",
    "data = data.drop(columns=['quality'])\n",
    "\n",
    "# select the rows (observations)\n",
    "fields = list(data.columns)\n",
    "X = data[fields]\n",
    "print(fields)"
   ]
  },
  {
   "cell_type": "markdown",
   "metadata": {
    "colab_type": "text",
    "id": "KugTFGHZhtAx"
   },
   "source": [
    "We will use a dimensionality reduction through Principal Component Analysis to identify only a subset of the componenta that drive the dynamics of the dataset and have other correkated dimensions with the same direction of impact but less strength. We will retain only the components that altogether amount to at least 65% of the accummulated eigen values\n"
   ]
  },
  {
   "cell_type": "code",
   "execution_count": 5,
   "metadata": {
    "colab": {
     "base_uri": "https://localhost:8080/",
     "height": 55
    },
    "colab_type": "code",
    "id": "IXSqIIAMhtA0",
    "outputId": "6e2e0c95-a2a8-4fc0-f5f5-66e08525698d"
   },
   "outputs": [
    {
     "name": "stdout",
     "output_type": "stream",
     "text": [
      "['fixed acidity', 'volatile acidity', 'citric acid', 'residual sugar', 'chlorides', 'free sulfur dioxide', 'total sulfur dioxide', 'density', 'pH', 'sulphates', 'alcohol']\n"
     ]
    }
   ],
   "source": [
    "# now let's try to find the most important features by using PCA\n",
    "# first off drop off the remaining non-chemical features.\n",
    "data = data.drop(columns=['color'])\n",
    "fields = list(data.columns)\n",
    "print(fields)"
   ]
  },
  {
   "cell_type": "code",
   "execution_count": 6,
   "metadata": {
    "colab": {
     "base_uri": "https://localhost:8080/",
     "height": 588
    },
    "colab_type": "code",
    "id": "OoJlRHsAhtA9",
    "outputId": "fa77d71d-209a-4589-c640-acebde780eb7"
   },
   "outputs": [
    {
     "name": "stdout",
     "output_type": "stream",
     "text": [
      "[0.2812138845440715, 0.2253415991254009, 0.14112902232389624, 0.08521911434306068, 0.06594236811149971, 0.05517392086025881, 0.04717623443524541, 0.044540482246072564, 0.03069485623703559, 0.02061524915127792, 0.0029532686221809263]\n",
      "[28.12 50.65 64.76 73.28 79.87 85.39 90.11 94.56 97.63 99.69 99.99]\n"
     ]
    },
    {
     "data": {
      "image/png": "[encoded data removed]",
      "text/plain": [
       "<Figure size 432x288 with 1 Axes>"
      ]
     },
     "metadata": {
      "needs_background": "light"
     },
     "output_type": "display_data"
    },
    {
     "name": "stdout",
     "output_type": "stream",
     "text": [
      "[[ 3.22576744  0.41102896 -2.80018819 ... -0.01978679 -0.10947096\n",
      "   0.01529315]\n",
      " [ 3.22576744  0.41102896 -2.80018819 ... -0.01978679 -0.10947096\n",
      "   0.01529315]\n",
      " [ 3.0803782   1.1081831  -2.10888328 ...  0.45879586 -0.28024376\n",
      "  -0.03173186]\n",
      " ...\n",
      " [-0.5899141  -0.75755992  0.0849859  ...  0.1193659  -0.35116319\n",
      "   0.16074081]\n",
      " [-0.10690003 -3.59768863  0.08976857 ...  0.29385227  0.27203213\n",
      "   0.049235  ]\n",
      " [-0.53211027 -2.94597678  0.70908899 ...  0.22134967 -0.11090156\n",
      "   0.0057377 ]]\n"
     ]
    }
   ],
   "source": [
    "#refs: https://stackoverflow.com/questions/31909945/obtain-eigen-values-and-vectors-from-sklearn-pca\n",
    "#refs: https://www.analyticsvidhya.com/blog/2018/03/introduction-k-neighbours-algorithm-clustering/\n",
    "import numpy as np\n",
    "from sklearn.decomposition import PCA\n",
    "import pandas as pd\n",
    "import matplotlib.pyplot as plt\n",
    "from sklearn.preprocessing import scale\n",
    "import time\n",
    "%matplotlib inline\n",
    "\n",
    "X = data[fields]\n",
    "X = scale(X)\n",
    "\n",
    "pca = PCA(n_components=11)\n",
    "pca.fit(X)\n",
    "\n",
    "eigvar= pca.explained_variance_ratio_\n",
    "print(eigvar.tolist())\n",
    "eigvar1=np.cumsum(np.round(pca.explained_variance_ratio_, decimals=4)*100)\n",
    "print(eigvar1)\n",
    "\n",
    "dims = ('1','2','3','4','5','6','7','8','9','10','11')\n",
    "y_pos = np.arange(len(dims))\n",
    "\n",
    "plt.bar(y_pos, eigvar, align='center', alpha=0.7)\n",
    "plt.xticks(y_pos, dims)\n",
    "plt.ylabel('Contribution')\n",
    "plt.xlabel('Dimensions')\n",
    "plt.title('Principal Components - Eigenvalues')\n",
    "\n",
    "plt.show()\n",
    "\n",
    "XPca=pca.fit_transform(X)\n",
    "print(XPca)"
   ]
  },
  {
   "cell_type": "markdown",
   "metadata": {
    "colab_type": "text",
    "id": "nwZX27URhtBE"
   },
   "source": [
    "We will run now K_Nearest Neighbour algorithm (KNN) to create a \"prediction model\"\n",
    "KNN converges faster when features are scaled. If the model is senstive to magnitudes its generally a good idea to scale so one feature doesn’t get more influence than the other(in terms of scale)."
   ]
  },
  {
   "cell_type": "code",
   "execution_count": 7,
   "metadata": {},
   "outputs": [
    {
     "name": "stdout",
     "output_type": "stream",
     "text": [
      "          Dim1      Dim2      Dim3      Dim4      Dim5      Dim6      Dim7  \\\n",
      "0     3.225767  0.411029 -2.800188 -0.852343  0.199122 -0.265351 -0.194558   \n",
      "1     3.225767  0.411029 -2.800188 -0.852343  0.199122 -0.265351 -0.194558   \n",
      "2     3.080378  1.108183 -2.108883 -0.931437 -1.276995  1.731359 -0.029815   \n",
      "3     3.114580  0.863640 -1.804274 -0.919626 -0.733310  0.897621  0.142934   \n",
      "4     1.652820  2.021409  2.608647 -0.267437  0.594091 -0.826626 -0.477675   \n",
      "...        ...       ...       ...       ...       ...       ...       ...   \n",
      "6048  0.054442 -1.986983  0.189462  0.191258 -0.006353 -0.571107  0.417440   \n",
      "6049 -1.881734  0.529466 -0.400523  0.173811 -0.529238  0.209778 -0.331691   \n",
      "6050 -0.589914 -0.757560  0.084986 -0.989145 -1.230461 -0.387528  1.348390   \n",
      "6051 -0.106900 -3.597689  0.089769 -0.063209  0.225839 -0.182203 -0.553685   \n",
      "6052 -0.532110 -2.945977  0.709089 -0.431966  0.087337 -0.895315 -0.435394   \n",
      "\n",
      "          Dim8      Dim9     Dim10     Dim11  \n",
      "0    -0.621275 -0.019787 -0.109471  0.015293  \n",
      "1    -0.621275 -0.019787 -0.109471  0.015293  \n",
      "2    -0.481320  0.458796 -0.280244 -0.031732  \n",
      "3    -0.355281  0.306244 -0.087118  0.040779  \n",
      "4    -1.093898 -0.558565  0.112130 -0.106979  \n",
      "...        ...       ...       ...       ...  \n",
      "6048  0.060101 -0.058787 -0.101123 -0.011137  \n",
      "6049 -0.348985  0.114367 -0.488917 -0.082722  \n",
      "6050 -0.762668  0.119366 -0.351163  0.160741  \n",
      "6051  0.529586  0.293852  0.272032  0.049235  \n",
      "6052  0.142622  0.221350 -0.110902  0.005738  \n",
      "\n",
      "[6053 rows x 11 columns]\n"
     ]
    }
   ],
   "source": [
    "XPcaDf = pd.DataFrame(data = XPca,columns = ['Dim1','Dim2','Dim3','Dim4','Dim5','Dim6','Dim7','Dim8','Dim9','Dim10','Dim11'])\n",
    "print(XPcaDf)"
   ]
  },
  {
   "cell_type": "code",
   "execution_count": 8,
   "metadata": {},
   "outputs": [
    {
     "name": "stdout",
     "output_type": "stream",
     "text": [
      "          Dim1      Dim2      Dim3\n",
      "0     3.225767  0.411029 -2.800188\n",
      "1     3.225767  0.411029 -2.800188\n",
      "2     3.080378  1.108183 -2.108883\n",
      "3     3.114580  0.863640 -1.804274\n",
      "4     1.652820  2.021409  2.608647\n",
      "...        ...       ...       ...\n",
      "6048  0.054442 -1.986983  0.189462\n",
      "6049 -1.881734  0.529466 -0.400523\n",
      "6050 -0.589914 -0.757560  0.084986\n",
      "6051 -0.106900 -3.597689  0.089769\n",
      "6052 -0.532110 -2.945977  0.709089\n",
      "\n",
      "[6053 rows x 3 columns]\n"
     ]
    }
   ],
   "source": [
    "if (DIM_NO == 8):\n",
    "    # since the first 5 dimensions amount to 80% of data variability, drop the dimensions >=6\n",
    "    XPcaDf = XPcaDf.drop('Dim9', 1)\n",
    "    XPcaDf = XPcaDf.drop('Dim10', 1)\n",
    "    XPcaDf = XPcaDf.drop('Dim11', 1)\n",
    "elif (DIM_NO == 7):\n",
    "    # since the first 5 dimensions amount to 80% of data variability, drop the dimensions >=6\n",
    "    XPcaDf = XPcaDf.drop('Dim8', 1)\n",
    "    XPcaDf = XPcaDf.drop('Dim9', 1)\n",
    "    XPcaDf = XPcaDf.drop('Dim10', 1)\n",
    "    XPcaDf = XPcaDf.drop('Dim11', 1)\n",
    "elif (DIM_NO == 6):\n",
    "    # since the first 5 dimensions amount to 80% of data variability, drop the dimensions >=6\n",
    "    XPcaDf = XPcaDf.drop('Dim7', 1)\n",
    "    XPcaDf = XPcaDf.drop('Dim8', 1)\n",
    "    XPcaDf = XPcaDf.drop('Dim9', 1)\n",
    "    XPcaDf = XPcaDf.drop('Dim10', 1)\n",
    "    XPcaDf = XPcaDf.drop('Dim11', 1)\n",
    "elif (DIM_NO == 5):\n",
    "    # since the first 5 dimensions amount to 80% of data variability, drop the dimensions >=6\n",
    "    XPcaDf = XPcaDf.drop('Dim6', 1)\n",
    "    XPcaDf = XPcaDf.drop('Dim7', 1)\n",
    "    XPcaDf = XPcaDf.drop('Dim8', 1)\n",
    "    XPcaDf = XPcaDf.drop('Dim9', 1)\n",
    "    XPcaDf = XPcaDf.drop('Dim10', 1)\n",
    "    XPcaDf = XPcaDf.drop('Dim11', 1)\n",
    "elif (DIM_NO == 4):\n",
    "    XPcaDf = XPcaDf.drop('Dim5', 1)\n",
    "    XPcaDf = XPcaDf.drop('Dim6', 1)\n",
    "    XPcaDf = XPcaDf.drop('Dim7', 1)\n",
    "    XPcaDf = XPcaDf.drop('Dim8', 1)\n",
    "    XPcaDf = XPcaDf.drop('Dim9', 1)\n",
    "    XPcaDf = XPcaDf.drop('Dim10', 1)\n",
    "    XPcaDf = XPcaDf.drop('Dim11', 1)\n",
    "elif (DIM_NO == 3):\n",
    "    XPcaDf = XPcaDf.drop('Dim4', 1)\n",
    "    XPcaDf = XPcaDf.drop('Dim5', 1)\n",
    "    XPcaDf = XPcaDf.drop('Dim6', 1)\n",
    "    XPcaDf = XPcaDf.drop('Dim7', 1)\n",
    "    XPcaDf = XPcaDf.drop('Dim8', 1)\n",
    "    XPcaDf = XPcaDf.drop('Dim9', 1)\n",
    "    XPcaDf = XPcaDf.drop('Dim10', 1)\n",
    "    XPcaDf = XPcaDf.drop('Dim11', 1)\n",
    "\n",
    "\n",
    "print(XPcaDf)"
   ]
  },
  {
   "cell_type": "code",
   "execution_count": 9,
   "metadata": {
    "colab": {},
    "colab_type": "code",
    "id": "-FtGH1rohtBG"
   },
   "outputs": [
    {
     "name": "stdout",
     "output_type": "stream",
     "text": [
      "Index(['Dim1_scaled', 'Dim2_scaled', 'Dim3_scaled'], dtype='object')\n",
      "[-7.51275980e-17 -3.75637990e-17  2.81728493e-17]\n",
      "[1.75879298 1.57440706 1.24596117]\n"
     ]
    }
   ],
   "source": [
    "# apply normalization to the eigenspace\n",
    "\n",
    "import warnings\n",
    "warnings.filterwarnings(\"ignore\")\n",
    "\n",
    "from sklearn.preprocessing import StandardScaler\n",
    "from sklearn.preprocessing import MinMaxScaler\n",
    "\n",
    "DO_STANDARDSCALER = True\n",
    "scaler = None\n",
    "fields = list(XPcaDf.columns)\n",
    "if DO_STANDARDSCALER:\n",
    "    scaler = StandardScaler().fit(XPcaDf)\n",
    "    X = scaler.transform(XPcaDf)\n",
    "\n",
    "    X = pd.DataFrame(X, columns=['%s_scaled' % fld for fld in fields])\n",
    "    print(X.columns) #scaled columns\n",
    "\n",
    "    print(scaler.mean_)\n",
    "    print(scaler.scale_)\n",
    "\n",
    "else:\n",
    "    scaler = MinMaxScaler().fit(XPcaDf)\n",
    "    print(scaler.data_max_)\n",
    "    print(scaler.data_min_)\n",
    "\n",
    "    X = scaler.transform(XPcaDf)\n",
    "\n",
    "    X = pd.DataFrame(X, columns=['%s_scaled' % fld for fld in fields])\n",
    "    print(X.columns) #scaled columns"
   ]
  },
  {
   "cell_type": "code",
   "execution_count": 10,
   "metadata": {
    "colab": {},
    "colab_type": "code",
    "id": "QiqtfXslhtBQ"
   },
   "outputs": [
    {
     "name": "stdout",
     "output_type": "stream",
     "text": [
      "          Dim1      Dim2      Dim3\n",
      "4744 -1.164749 -1.598111  1.683167\n",
      "647   2.217867  3.376573  3.108731\n",
      "2173 -1.476531 -0.120830  1.065960\n",
      "2107 -1.930873  0.707145 -1.986370\n",
      "799   3.124795  0.135425 -2.631479\n",
      "...        ...       ...       ...\n",
      "3413 -0.112948  0.256061 -0.411985\n",
      "174   1.131916  1.597523  1.407788\n",
      "1518 -2.756565  3.058433 -0.575631\n",
      "1192  2.618331 -0.562390 -1.972057\n",
      "4638 -1.132679  0.773428 -1.466547\n",
      "\n",
      "[1816 rows x 3 columns]\n"
     ]
    }
   ],
   "source": [
    "from sklearn.utils import shuffle\n",
    "from sklearn.model_selection import train_test_split\n",
    "\n",
    "# we will split the data in training (70%) and testing (30%) whihc is the usual ratio\n",
    "fields = list(XPcaDf.columns)\n",
    "X_train, X_test, y_train, y_test = train_test_split(XPcaDf, y, test_size=0.3, random_state=10)\n",
    "print(X_test)"
   ]
  },
  {
   "cell_type": "code",
   "execution_count": 11,
   "metadata": {
    "colab": {},
    "colab_type": "code",
    "id": "L8rjjKgUhtBX",
    "tags": [
     "outputPrepend",
     "outputPrepend",
     "outputPrepend",
     "outputPrepend",
     "outputPrepend",
     "outputPrepend",
     "outputPrepend",
     "outputPrepend",
     "outputPrepend",
     "outputPrepend",
     "outputPrepend",
     "outputPrepend"
    ]
   },
   "outputs": [
    {
     "ename": "SyntaxError",
     "evalue": "f-string: unterminated string (<ipython-input-11-31ca769dfb9c>, line 24)",
     "output_type": "error",
     "traceback": [
      "\u001b[1;36m  File \u001b[1;32m\"<ipython-input-11-31ca769dfb9c>\"\u001b[1;36m, line \u001b[1;32m24\u001b[0m\n\u001b[1;33m    print(f\"{list(y_pred)[i]}\\t{list(y_test)[i]}\\t\",f\"{row['Dim1']}, {row['Dim2']},{row['Dim3']}, {row['Dim4']}, {row['Dim5']}, {row['Dim6']}, {row['Dim7]}\")\u001b[0m\n\u001b[1;37m                                                   ^\u001b[0m\n\u001b[1;31mSyntaxError\u001b[0m\u001b[1;31m:\u001b[0m f-string: unterminated string\n"
     ]
    }
   ],
   "source": [
    "from sklearn.neighbors import KNeighborsClassifier\n",
    "\n",
    "# Instantiate KNN learning model (k=15)\n",
    "knn = KNeighborsClassifier(n_neighbors=15)\n",
    "# predict the wine rankings for the test data set\n",
    "\n",
    "# Fit the model\n",
    "knn.fit(X_train,y_train)\n",
    "\n",
    "y_pred = knn.predict(X_test)\n",
    "\n",
    "#print(print('predict\\tactual\\tDim1_scaled,','Dim2_scaled,','Dim3_scaled,','Dim4_scaled'))\n",
    "\n",
    "if (DIM_NO == 8):\n",
    "    print(print('predict\\tactual\\tDim1,','Dim2,','Dim3,','Dim4','Dim5','Dim6','Dim7','Dim8'))\n",
    "    i=0\n",
    "    for index,row in X_test.iterrows():\n",
    "        print(f\"{list(y_pred)[i]}\\t{list(y_test)[i]}\\t\",f\"{row['Dim1']}, {row['Dim2']},{row['Dim3']}, {row['Dim4']}, {row['Dim5']}, {row['Dim6']}, {row['Dim7']}, {row['Dim8']}\")\n",
    "        i=i+1\n",
    "elif (DIM_NO == 7):\n",
    "    print(print('predict\\tactual\\tDim1,','Dim2,','Dim3,','Dim4','Dim5','Dim6','Dim7'))\n",
    "    i=0\n",
    "    for index,row in X_test.iterrows():\n",
    "        print(f\"{list(y_pred)[i]}\\t{list(y_test)[i]}\\t\",f\"{row['Dim1']}, {row['Dim2']},{row['Dim3']}, {row['Dim4']}, {row['Dim5']}, {row['Dim6']}, {row['Dim7]}\")\n",
    "        i=i+1\n",
    "elif (DIM_NO == 6):\n",
    "    print(print('predict\\tactual\\tDim1,','Dim2,','Dim3,','Dim4','Dim5','Dim6'))\n",
    "    i=0\n",
    "    for index,row in X_test.iterrows():\n",
    "        print(f\"{list(y_pred)[i]}\\t{list(y_test)[i]}\\t\",f\"{row['Dim1']}, {row['Dim2']},{row['Dim3']}, {row['Dim4']}, {row['Dim5']}, {row['Dim6']}\")\n",
    "        i=i+1\n",
    "elif (DIM_NO == 5):\n",
    "    print(print('predict\\tactual\\tDim1,','Dim2,','Dim3,','Dim4','Dim5'))\n",
    "    i=0\n",
    "    for index,row in X_test.iterrows():\n",
    "        print(f\"{list(y_pred)[i]}\\t{list(y_test)[i]}\\t\",f\"{row['Dim1']}, {row['Dim2']},{row['Dim3']}, {row['Dim4']}, {row['Dim5']}\")\n",
    "        i=i+1\n",
    "elif (DIM_NO == 4):\n",
    "    print(print('predict\\tactual\\tDim1,','Dim2,','Dim3,','Dim4'))\n",
    "    i=0\n",
    "    for index,row in X_test.iterrows():\n",
    "        print(f\"{list(y_pred)[i]}\\t{list(y_test)[i]}\\t\",f\"{row['Dim1']}, {row['Dim2']},{row['Dim3']}, {row['Dim4']}\")\n",
    "        i=i+1\n",
    "elif (DIM_NO == 3):\n",
    "    print(print('predict\\tactual\\tDim1,','Dim2,','Dim3'))\n",
    "    i=0\n",
    "    for index,row in X_test.iterrows():\n",
    "        print(f\"{list(y_pred)[i]}\\t{list(y_test)[i]}\\t\",f\"{row['Dim1']}, {row['Dim2']},{row['Dim3']}\")\n",
    "        i=i+1\n"
   ]
  },
  {
   "cell_type": "code",
   "execution_count": null,
   "metadata": {
    "colab": {},
    "colab_type": "code",
    "id": "kKgNCxarhtBe"
   },
   "outputs": [],
   "source": [
    "from sklearn.metrics import precision_recall_fscore_support as score\n",
    "from sklearn.metrics import confusion_matrix, accuracy_score, roc_auc_score\n",
    "from sklearn.preprocessing import label_binarize\n",
    "\n",
    "import seaborn as sns; sns.set()\n",
    "\n",
    "\n",
    "# Calculate the accuracy of prediction\n",
    "metrics = list()\n",
    "cm = dict()\n",
    "\n",
    "# Precision, recall, f-score from the multi-class support function\n",
    "precision, recall, fscore, _ = score(y_test, y_pred, average='weighted')\n",
    "\n",
    "# Accuracy score\n",
    "accuracy = accuracy_score(y_test, y_pred)\n",
    "\n",
    "metrics.append(pd.Series({'precision':precision, 'recall':recall, \n",
    "                          'fscore':fscore, 'accuracy':accuracy}, \n",
    "                         name='Model'))\n",
    "\n",
    "metrics = pd.concat(metrics, axis=1)\n",
    "\n",
    "print(metrics)\n",
    "\n",
    "y_pred = knn.predict(X_test)\n",
    "print(y_pred)\n",
    "\n",
    "# Last, the confusion matrix\n",
    "cm = confusion_matrix(y_test, y_pred)\n",
    "cm = cm.astype('float') / cm.sum(axis=1)[:, np.newaxis]\n",
    "\n",
    "sns.heatmap(cm, annot=True, fmt='.2g');\n",
    "plt.title('Confusion matrix of the KNN classifier (use PCA)')    \n",
    "plt.tight_layout()"
   ]
  },
  {
   "cell_type": "code",
   "execution_count": null,
   "metadata": {
    "colab": {},
    "colab_type": "code",
    "id": "OxOeKHEOhtBl",
    "scrolled": true
   },
   "outputs": [],
   "source": [
    "# another way to calculate the prediction accuracy by using a KNN built-in method\n",
    "mean_accuracy = knn.score(X_test,y_test)\n",
    "print(mean_accuracy)"
   ]
  },
  {
   "cell_type": "markdown",
   "metadata": {
    "colab_type": "text",
    "id": "1jjXru8nhtBt"
   },
   "source": [
    "We will try now to get the quality prediction for a new wine that comes with the full sets of parameters:\n",
    "'color', 'fixed acidity','volatile acidity','citric acid','residual sugar','chlorides', 'free sulfur dioxide','total sulfur dioxide', 'density', 'pH','sulphates','alcohol'\n",
    "\n",
    "Examples:\n",
    "    red wine:          [1,7.4,0.7,0,1.9,0.76,11,34,0.9978,3.51,0.56,9.4]\n",
    "    white wine:        [0,6.6,0.17,0.38,1.5,0.032,28,112,0.9914,3.25,0.55,11.4]\n"
   ]
  },
  {
   "cell_type": "code",
   "execution_count": null,
   "metadata": {
    "colab": {},
    "colab_type": "code",
    "id": "qChAJrcPhtBw",
    "scrolled": false
   },
   "outputs": [],
   "source": [
    "X0 = [[1,7.4,0.7,0,1.9,0.76,11,34,0.9978,3.51,0.56,9.4],[0,6.6,0.17,0.38,1.5,0.032,28,112,0.9914,3.25,0.55,11.4]]\n",
    "dfX=pd.DataFrame(X0)\n",
    "\n",
    "print(\"===Wines (new data)=====================================================\")\n",
    "\n",
    "dfX.columns = ['color', 'fixed acidity','volatile acidity','citric acid','residual sugar','chlorides', 'free sulfur dioxide','total sulfur dioxide', 'density', 'pH','sulphates','alcohol']\n",
    "dfX.index = ['red_wine_0','white_wine_0']\n",
    "print(dfX)"
   ]
  },
  {
   "cell_type": "code",
   "execution_count": null,
   "metadata": {
    "colab": {},
    "colab_type": "code",
    "id": "qChAJrcPhtBw"
   },
   "outputs": [],
   "source": [
    "inxs = dfX.index\n",
    "dfX = dfX.drop(columns=['color'])\n",
    "\n",
    "#transpose this set into eigenspace\n",
    "XPcaDf0 = pca.transform(dfX)\n",
    "XPcaDf0 = pd.DataFrame(data = XPcaDf0,columns = ['Dim1','Dim2','Dim3','Dim4','Dim5','Dim6','Dim7','Dim8','Dim9','Dim10','Dim11'])\n",
    "\n",
    "if (DIM_NO == 8):\n",
    "    XPcaDf0 = XPcaDf0.drop('Dim9', 1)\n",
    "    XPcaDf0 = XPcaDf0.drop('Dim10', 1)\n",
    "    XPcaDf0 = XPcaDf0.drop('Dim11', 1)\n",
    "elif (DIM_NO == 7):\n",
    "    XPcaDf0 = XPcaDf0.drop('Dim8', 1)\n",
    "    XPcaDf0 = XPcaDf0.drop('Dim9', 1)\n",
    "    XPcaDf0 = XPcaDf0.drop('Dim10', 1)\n",
    "    XPcaDf0 = XPcaDf0.drop('Dim11', 1)\n",
    "elif (DIM_NO == 6):\n",
    "    XPcaDf0 = XPcaDf0.drop('Dim7', 1)\n",
    "    XPcaDf0 = XPcaDf0.drop('Dim8', 1)\n",
    "    XPcaDf0 = XPcaDf0.drop('Dim9', 1)\n",
    "    XPcaDf0 = XPcaDf0.drop('Dim10', 1)\n",
    "    XPcaDf0 = XPcaDf0.drop('Dim11', 1)\n",
    "elif (DIM_NO == 5):\n",
    "    XPcaDf0 = XPcaDf0.drop('Dim6', 1)\n",
    "    XPcaDf0 = XPcaDf0.drop('Dim7', 1)\n",
    "    XPcaDf0 = XPcaDf0.drop('Dim8', 1)\n",
    "    XPcaDf0 = XPcaDf0.drop('Dim9', 1)\n",
    "    XPcaDf0 = XPcaDf0.drop('Dim10', 1)\n",
    "    XPcaDf0 = XPcaDf0.drop('Dim11', 1)\n",
    "elif (DIM_NO == 4):\n",
    "    XPcaDf0 = XPcaDf0.drop('Dim5', 1)\n",
    "    XPcaDf0 = XPcaDf0.drop('Dim6', 1)\n",
    "    XPcaDf0 = XPcaDf0.drop('Dim7', 1)\n",
    "    XPcaDf0 = XPcaDf0.drop('Dim8', 1)\n",
    "    XPcaDf0 = XPcaDf0.drop('Dim9', 1)\n",
    "    XPcaDf0 = XPcaDf0.drop('Dim10', 1)\n",
    "    XPcaDf0 = XPcaDf0.drop('Dim11', 1)\n",
    "elif (DIM_NO == 3):\n",
    "    XPcaDf0 = XPcaDf0.drop('Dim4', 1)\n",
    "    XPcaDf0 = XPcaDf0.drop('Dim5', 1)\n",
    "    XPcaDf0 = XPcaDf0.drop('Dim6', 1)\n",
    "    XPcaDf0 = XPcaDf0.drop('Dim7', 1)\n",
    "    XPcaDf0 = XPcaDf0.drop('Dim8', 1)\n",
    "    XPcaDf0 = XPcaDf0.drop('Dim9', 1)\n",
    "    XPcaDf0 = XPcaDf0.drop('Dim10', 1)\n",
    "    XPcaDf0 = XPcaDf0.drop('Dim11', 1)\n",
    "\n",
    "print(XPcaDf0)"
   ]
  },
  {
   "cell_type": "code",
   "execution_count": null,
   "metadata": {
    "colab": {},
    "colab_type": "code",
    "id": "qChAJrcPhtBw"
   },
   "outputs": [],
   "source": [
    "# apply normalization to the eigenspace\n",
    "XPcaDf0 = scaler.transform(XPcaDf0)\n",
    "print(XPcaDf0)\n",
    "y0_pred = knn.predict(XPcaDf0)\n",
    "\n",
    "print(\"\\n===Predicted Quality====================================================\")\n",
    "print(f\"{inxs[0]}:\\t{y0_pred[0]}\")\n",
    "print(f\"{inxs[1]}:\\t{y0_pred[1]}\")"
   ]
  },
  {
   "cell_type": "code",
   "execution_count": null,
   "metadata": {
    "colab": {},
    "colab_type": "code",
    "id": "Wf3jG25xhtB2"
   },
   "outputs": [],
   "source": [
    "# end timer\n",
    "\n",
    "end = time.time() \n",
    "print(end - start)\n"
   ]
  }
 ],
 "metadata": {
  "colab": {
   "collapsed_sections": [],
   "name": "WineQualityAnalysis_KNN_PCA.ipynb",
   "provenance": []
  },
  "kernelspec": {
   "display_name": "Python 3.7.7 64-bit",
   "language": "python",
   "name": "python37764bitc0556de680de4c0aae08a6e63bbd036c"
  },
  "language_info": {
   "codemirror_mode": {
    "name": "ipython",
    "version": 3
   },
   "file_extension": ".py",
   "mimetype": "text/x-python",
   "name": "python",
   "nbconvert_exporter": "python",
   "pygments_lexer": "ipython3",
   "version": "3.7.7"
  }
 },
 "nbformat": 4,
 "nbformat_minor": 1
}
