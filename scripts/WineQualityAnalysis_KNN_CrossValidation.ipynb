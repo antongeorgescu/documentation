{
 "cells": [
  {
   "cell_type": "code",
   "execution_count": 58,
   "metadata": {
    "colab": {
     "base_uri": "https://localhost:8080/",
     "height": 92
    },
    "colab_type": "code",
    "id": "7Yo9kOIZhs_-",
    "outputId": "3f32d013-28a3-4cb6-f53e-c52830bfec02"
   },
   "outputs": [
    {
     "name": "stdout",
     "output_type": "stream",
     "text": [
      "(1599, 13)\n",
      "(4898, 13)\n",
      "['fixed acidity', 'volatile acidity', 'citric acid', 'residual sugar', 'chlorides', 'free sulfur dioxide', 'total sulfur dioxide', 'density', 'pH', 'sulphates', 'alcohol', 'quality', 'color']\n"
     ]
    }
   ],
   "source": [
    "import pandas as pd\n",
    "import numpy as np\n",
    "\n",
    "REDWINE_PATH = \"../datasets/winequality-red.csv\"\n",
    "WHITEWINE_PATH = \"../datasets/winequality-white.csv\"\n",
    "\n",
    "# timer start\n",
    "import time \n",
    "start = time.time()\n",
    "\n",
    "# read red wine set of observations\n",
    "data_red = pd.read_csv(REDWINE_PATH,sep=',')\n",
    "data_red['color'] = 1 #redwine\n",
    "\n",
    "print(data_red.shape)\n",
    "\n",
    "# read white wine set of observations\n",
    "data_white = pd.read_csv(WHITEWINE_PATH,sep=',')\n",
    "data_white['color'] = 0 #whitewine\n",
    "\n",
    "print(data_white.shape)\n",
    "\n",
    "# merge the two sets in one\n",
    "data = data_red.merge(data_white, how='outer')\n",
    "fields = list(data.columns)\n",
    "print(fields)"
   ]
  },
  {
   "cell_type": "code",
   "execution_count": 59,
   "metadata": {
    "colab": {
     "base_uri": "https://localhost:8080/",
     "height": 108
    },
    "colab_type": "code",
    "id": "uQxTlPaUhtAe",
    "outputId": "079861fb-e4bb-4243-83dc-797976c2628a",
    "scrolled": true
   },
   "outputs": [
    {
     "name": "stdout",
     "output_type": "stream",
     "text": [
      "Selected 'quality level' counts\n",
      "6    2836\n",
      "5    2138\n",
      "7    1079\n",
      "Name: quality, dtype: int64\n"
     ]
    }
   ],
   "source": [
    "# based on the \"quality histograms\", we will drop the ratings with low counts (we will keep only 5,6,7)\n",
    "data = data.drop(data[data.quality == 9].index)\n",
    "data = data.drop(data[data.quality == 8].index)\n",
    "data = data.drop(data[data.quality == 3].index)\n",
    "data = data.drop(data[data.quality == 4].index)\n",
    "\n",
    "# show the counts of selected quality levels\n",
    "print(\"Selected 'quality level' counts\")\n",
    "print(data[\"quality\"].value_counts())"
   ]
  },
  {
   "cell_type": "code",
   "execution_count": 60,
   "metadata": {
    "colab": {
     "base_uri": "https://localhost:8080/",
     "height": 55
    },
    "colab_type": "code",
    "id": "1UGZhyd3htAo",
    "outputId": "23797d93-e195-4a3e-ccb1-ed270ae8d683"
   },
   "outputs": [
    {
     "name": "stdout",
     "output_type": "stream",
     "text": [
      "['fixed acidity', 'volatile acidity', 'citric acid', 'residual sugar', 'chlorides', 'free sulfur dioxide', 'total sulfur dioxide', 'density', 'pH', 'sulphates', 'alcohol', 'color']\n"
     ]
    }
   ],
   "source": [
    "# split the data set in two: 1) color+features (observations)  2) quality (actuals)\n",
    "\n",
    "# select the outcomes\n",
    "y = data['quality']\n",
    "\n",
    "data = data.drop(columns=['quality'])\n",
    "\n",
    "# select the rows (observations)\n",
    "fields = list(data.columns)\n",
    "X = data[fields]\n",
    "print(fields)"
   ]
  },
  {
   "cell_type": "markdown",
   "metadata": {
    "colab_type": "text",
    "id": "KugTFGHZhtAx"
   },
   "source": [
    "We will use a dimensionality reduction through Principal Component Analysis to identify only a subset of the componenta that drive the dynamics of the dataset and have other correkated dimensions with the same direction of impact but less strength. We will retain only the components that altogether amount to at least 65% of the accummulated eigen values\n"
   ]
  },
  {
   "cell_type": "code",
   "execution_count": 61,
   "metadata": {
    "colab": {
     "base_uri": "https://localhost:8080/",
     "height": 55
    },
    "colab_type": "code",
    "id": "IXSqIIAMhtA0",
    "outputId": "6e2e0c95-a2a8-4fc0-f5f5-66e08525698d"
   },
   "outputs": [
    {
     "name": "stdout",
     "output_type": "stream",
     "text": [
      "['fixed acidity', 'volatile acidity', 'citric acid', 'residual sugar', 'chlorides', 'free sulfur dioxide', 'total sulfur dioxide', 'density', 'pH', 'sulphates', 'alcohol']\n"
     ]
    }
   ],
   "source": [
    "# drop off the remaining non-chemical features.\n",
    "data = data.drop(columns=['color'])\n",
    "fields = list(data.columns)\n",
    "print(fields)"
   ]
  },
  {
   "cell_type": "code",
   "execution_count": 62,
   "metadata": {
    "colab": {},
    "colab_type": "code",
    "id": "-FtGH1rohtBG"
   },
   "outputs": [],
   "source": [
    "# apply normalization to the dataset\n",
    "import warnings\n",
    "warnings.filterwarnings(\"ignore\")\n",
    "\n",
    "from sklearn.preprocessing import StandardScaler\n",
    "from sklearn.preprocessing import MinMaxScaler\n",
    "\n",
    "fields = list(X.columns)\n",
    "scaler = StandardScaler().fit(X)\n",
    "X = scaler.transform(X)\n",
    "X = pd.DataFrame(X, columns=['%s_scaled' % fld for fld in fields])"
   ]
  },
  {
   "cell_type": "markdown",
   "metadata": {
    "colab_type": "text",
    "id": "nwZX27URhtBE"
   },
   "source": [
    "The simplest way to use cross-validation is to call the cross_val_score helper function on the estimator and the dataset.\n",
    "\n",
    "The following example demonstrates how to estimate the accuracy of a few of the algorithms we use on the wine dataset by splitting the data, fitting a model and computing the score 5 consecutive times (with different splits each time):"
   ]
  },
  {
   "cell_type": "code",
   "execution_count": 82,
   "metadata": {},
   "outputs": [],
   "source": [
    "# define number of splits\n",
    "NO_SPLITS = 5"
   ]
  },
  {
   "cell_type": "code",
   "execution_count": 83,
   "metadata": {
    "colab": {},
    "colab_type": "code",
    "id": "L8rjjKgUhtBX"
   },
   "outputs": [
    {
     "name": "stdout",
     "output_type": "stream",
     "text": [
      "[0.38728324 0.45417011 0.552436   0.53719008 0.5214876 ]\n",
      "Accuracy: 0.49 (+/- 0.12)\n"
     ]
    }
   ],
   "source": [
    "from sklearn.model_selection import cross_val_score\n",
    "from sklearn.neighbors import KNeighborsClassifier\n",
    "\n",
    "# Instantiate KNN learning model (k=15)\n",
    "knn = KNeighborsClassifier(n_neighbors=15)\n",
    "# predict the wine rankings for the test data set\n",
    "scores = cross_val_score(knn, X, y, cv=NO_SPLITS)\n",
    "print(scores)\n",
    "print(\"Accuracy: %0.2f (+/- %0.2f)\" % (scores.mean(), scores.std() * 2))\n"
   ]
  },
  {
   "cell_type": "code",
   "execution_count": 84,
   "metadata": {},
   "outputs": [
    {
     "name": "stdout",
     "output_type": "stream",
     "text": [
      "[0.47563997 0.47811726 0.56647399 0.5768595  0.5661157 ]\n",
      "Accuracy: 0.53 (+/- 0.09)\n"
     ]
    }
   ],
   "source": [
    "from sklearn import svm\n",
    "\n",
    "# Instantiate SVM learning model\n",
    "clf = svm.SVC(kernel='linear', C=1)\n",
    "scores = cross_val_score(clf, X, y, cv=NO_SPLITS)\n",
    "print(scores)\n",
    "print(\"Accuracy: %0.2f (+/- %0.2f)\" % (scores.mean(), scores.std() * 2))"
   ]
  },
  {
   "cell_type": "code",
   "execution_count": 85,
   "metadata": {},
   "outputs": [
    {
     "name": "stdout",
     "output_type": "stream",
     "text": [
      "[0.46490504 0.48472337 0.57060281 0.59008264 0.55867769]\n",
      "Accuracy: 0.53 (+/- 0.10)\n"
     ]
    }
   ],
   "source": [
    "from sklearn.linear_model import LogisticRegression\n",
    "\n",
    "MYSOLVER = \"lbfgs\" #\"newton-cg\"\n",
    "\n",
    "logreg = LogisticRegression(C=1.0, class_weight=None, dual=False, fit_intercept=True,\n",
    "          intercept_scaling=1, max_iter=100, multi_class='auto',\n",
    "          n_jobs=None, penalty='l2', random_state=None, solver=MYSOLVER,\n",
    "          tol=0.0001, verbose=0, warm_start=False)\n",
    "scores = cross_val_score(logreg, X, y, cv=NO_SPLITS)\n",
    "print(scores)\n",
    "print(\"Accuracy: %0.2f (+/- %0.2f)\" % (scores.mean(), scores.std() * 2))"
   ]
  },
  {
   "cell_type": "code",
   "execution_count": 86,
   "metadata": {},
   "outputs": [
    {
     "name": "stdout",
     "output_type": "stream",
     "text": [
      "[0.45334434 0.50289017 0.5821635  0.57768595 0.56198347]\n",
      "Accuracy: 0.54 (+/- 0.10)\n"
     ]
    }
   ],
   "source": [
    "from sklearn.ensemble import RandomForestClassifier\n",
    "ranfc = RandomForestClassifier(n_estimators=70, oob_score=True, n_jobs=-1,\n",
    "                            random_state=101, max_features = None, min_samples_leaf = 30)\n",
    "scores = cross_val_score(ranfc, X, y, cv=NO_SPLITS)\n",
    "print(scores)\n",
    "print(\"Accuracy: %0.2f (+/- %0.2f)\" % (scores.mean(), scores.std() * 2))"
   ]
  },
  {
   "cell_type": "code",
   "execution_count": 87,
   "metadata": {},
   "outputs": [
    {
     "name": "stdout",
     "output_type": "stream",
     "text": [
      "[0.45995045 0.48142031 0.50619323 0.53966942 0.52231405]\n",
      "Accuracy: 0.50 (+/- 0.06)\n"
     ]
    }
   ],
   "source": [
    "from sklearn.tree import DecisionTreeClassifier\n",
    "\n",
    "dtree = DecisionTreeClassifier(max_depth=10, random_state=101,\n",
    "                            max_features = None, min_samples_leaf = 30)\n",
    "scores = cross_val_score(dtree, X, y, cv=NO_SPLITS)\n",
    "print(scores)\n",
    "print(\"Accuracy: %0.2f (+/- %0.2f)\" % (scores.mean(), scores.std() * 2))"
   ]
  },
  {
   "cell_type": "code",
   "execution_count": 88,
   "metadata": {},
   "outputs": [
    {
     "name": "stdout",
     "output_type": "stream",
     "text": [
      "[0.36746491 0.50949628 0.46738233 0.45867769 0.37933884]\n",
      "Accuracy: 0.44 (+/- 0.11)\n"
     ]
    }
   ],
   "source": [
    "from sklearn.naive_bayes import GaussianNB\n",
    "\n",
    "nb = GaussianNB()\n",
    "scores = cross_val_score(nb, X, y, cv=NO_SPLITS)\n",
    "print(scores)\n",
    "print(\"Accuracy: %0.2f (+/- %0.2f)\" % (scores.mean(), scores.std() * 2))"
   ]
  },
  {
   "cell_type": "code",
   "execution_count": null,
   "metadata": {},
   "outputs": [],
   "source": []
  }
 ],
 "metadata": {
  "colab": {
   "collapsed_sections": [],
   "name": "WineQualityAnalysis_KNN_PCA.ipynb",
   "provenance": []
  },
  "kernelspec": {
   "display_name": "Python 3.7.7 64-bit",
   "language": "python",
   "name": "python37764bitc0556de680de4c0aae08a6e63bbd036c"
  },
  "language_info": {
   "codemirror_mode": {
    "name": "ipython",
    "version": 3
   },
   "file_extension": ".py",
   "mimetype": "text/x-python",
   "name": "python",
   "nbconvert_exporter": "python",
   "pygments_lexer": "ipython3",
   "version": "3.7.7"
  }
 },
 "nbformat": 4,
 "nbformat_minor": 1
}
