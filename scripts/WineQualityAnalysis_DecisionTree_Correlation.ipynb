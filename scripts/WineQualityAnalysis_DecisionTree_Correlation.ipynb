{
 "cells": [
  {
   "cell_type": "code",
   "execution_count": 1,
   "metadata": {},
   "outputs": [
    {
     "name": "stdout",
     "output_type": "stream",
     "text": [
      "(1599, 13)\n",
      "(4898, 13)\n",
      "['fixed acidity', 'volatile acidity', 'citric acid', 'residual sugar', 'chlorides', 'free sulfur dioxide', 'total sulfur dioxide', 'density', 'pH', 'sulphates', 'alcohol', 'quality', 'color']\n"
     ]
    }
   ],
   "source": [
    "import pandas as pd\n",
    "import numpy as np\n",
    "\n",
    "# read red wine set of observations\n",
    "data_red = pd.read_csv(\"C:/Users/ag4488/Documents/Python/svm-classification-with-pytorch/data/winequality-red.csv\",sep=',')\n",
    "data_red['color'] = 1 #redwine\n",
    "\n",
    "print(data_red.shape)\n",
    "\n",
    "# read white wine set of observations\n",
    "data_white = pd.read_csv(\"C:/Users/ag4488/Documents/Python/svm-classification-with-pytorch/data/winequality-white.csv\",sep=',')\n",
    "data_white['color'] = 0 #whitewine\n",
    "\n",
    "print(data_white.shape)\n",
    "\n",
    "# merge the two sets in one\n",
    "data = data_red.merge(data_white, how='outer')\n",
    "fields = list(data.columns)\n",
    "print(fields)"
   ]
  },
  {
   "cell_type": "code",
   "execution_count": 2,
   "metadata": {},
   "outputs": [
    {
     "data": {
      "text/plain": [
       "<Figure size 1000x1000 with 16 Axes>"
      ]
     },
     "metadata": {},
     "output_type": "display_data"
    }
   ],
   "source": [
    "import matplotlib.pyplot as plt\n",
    "import seaborn as sns\n",
    "\n",
    "# show the histograms of values per feature (eg most of whines are at about 8 proof strength)\n",
    "sns.set()\n",
    "data.hist(figsize=(10,10),color='red', bins=13)\n",
    "plt.show()"
   ]
  },
  {
   "cell_type": "code",
   "execution_count": 3,
   "metadata": {},
   "outputs": [
    {
     "data": {
      "image/png": "[encoded data removed]",
      "text/plain": [
       "<Figure size 432x288 with 1 Axes>"
      ]
     },
     "metadata": {
      "needs_background": "light"
     },
     "output_type": "display_data"
    }
   ],
   "source": [
    "# show the historgram of wine rankings (quality between 1 and 10)\n",
    "data['quality'].hist(color='red', bins=13)\n",
    "plt.show()"
   ]
  },
  {
   "cell_type": "code",
   "execution_count": 4,
   "metadata": {},
   "outputs": [
    {
     "name": "stdout",
     "output_type": "stream",
     "text": [
      "(1599, 13)\n",
      "(4898, 13)\n"
     ]
    }
   ],
   "source": [
    "import pandas as pd\n",
    "import numpy as np\n",
    "\n",
    "data_red = pd.read_csv(\"C:/Users/ag4488/Documents/Python/svm-classification-with-pytorch/data/winequality-red.csv\",sep=',')\n",
    "data_red['color'] = 1 #redwine\n",
    "\n",
    "print(data_red.shape)\n",
    "\n",
    "data_white = pd.read_csv(\"C:/Users/ag4488/Documents/Python/svm-classification-with-pytorch/data/winequality-white.csv\",sep=',')\n",
    "data_white['color'] = 0 #whitewine\n",
    "\n",
    "print(data_white.shape)\n",
    "\n",
    "data = data_red.merge(data_white, how='outer')\n",
    "\n",
    "\n",
    "# based on the \"quality histograms\" above, we will drop the ratings with low counts (we will keep only 3 dimesnions = 5,6,7)\n",
    "data = data.drop(data[data.quality == 1].index)    # not recorded anyway\n",
    "data = data.drop(data[data.quality == 2].index)    # not recorded anyway\n",
    "data = data.drop(data[data.quality == 10].index)   # not recorded anyway\n",
    "data = data.drop(data[data.quality == 9].index)\n",
    "data = data.drop(data[data.quality == 3].index)\n",
    "data = data.drop(data[data.quality == 8].index)\n",
    "data = data.drop(data[data.quality == 4].index)"
   ]
  },
  {
   "cell_type": "code",
   "execution_count": 5,
   "metadata": {},
   "outputs": [
    {
     "data": {
      "text/plain": [
       "6    2836\n",
       "5    2138\n",
       "7    1079\n",
       "Name: quality, dtype: int64"
      ]
     },
     "execution_count": 5,
     "metadata": {},
     "output_type": "execute_result"
    }
   ],
   "source": [
    "data.quality.value_counts()"
   ]
  },
  {
   "cell_type": "code",
   "execution_count": 6,
   "metadata": {},
   "outputs": [
    {
     "name": "stdout",
     "output_type": "stream",
     "text": [
      "['fixed acidity', 'volatile acidity', 'citric acid', 'residual sugar', 'chlorides', 'free sulfur dioxide', 'total sulfur dioxide', 'density', 'pH', 'sulphates', 'alcohol', 'quality', 'color']\n"
     ]
    }
   ],
   "source": [
    "fields = list(data.columns)\n",
    "print(fields)"
   ]
  },
  {
   "cell_type": "code",
   "execution_count": 7,
   "metadata": {},
   "outputs": [
    {
     "name": "stdout",
     "output_type": "stream",
     "text": [
      "['fixed acidity', 'volatile acidity', 'citric acid', 'residual sugar', 'chlorides', 'free sulfur dioxide', 'total sulfur dioxide', 'density', 'pH', 'sulphates', 'alcohol', 'color']\n"
     ]
    }
   ],
   "source": [
    "# split the data set in two: 1) color+features (observations)  2) quality (actuals)\n",
    "\n",
    "fields = list(data.columns[:-2])\n",
    "fields.append('color')  #adding color back\n",
    "X = data[fields]\n",
    "y = data['quality']\n",
    "print(fields)"
   ]
  },
  {
   "cell_type": "markdown",
   "metadata": {},
   "source": [
    "A Pearson correlation was used to identify which features correlate with wine quality. It looks as if higher the alcohol content the higher the quality. Lower density and volatile acidity also correlated with better quality as seen in the pairwise correlation chart the chart below. Only the top 5 correlated features were carried over to the KNN models."
   ]
  },
  {
   "cell_type": "code",
   "execution_count": 8,
   "metadata": {},
   "outputs": [
    {
     "name": "stdout",
     "output_type": "stream",
     "text": [
      "Index(['color', 'chlorides', 'volatile acidity', 'density', 'alcohol'], dtype='object')\n"
     ]
    }
   ],
   "source": [
    "correlations = data[fields].corrwith(y)\n",
    "correlations.sort_values(inplace=True)\n",
    "\n",
    "# the following fields are the 5 retained as having the highest correlations to wine quality\n",
    "fields = correlations.map(abs).sort_values().iloc[-5:].index\n",
    "print(fields) #prints the top two abs correlations"
   ]
  },
  {
   "cell_type": "code",
   "execution_count": 9,
   "metadata": {},
   "outputs": [
    {
     "data": {
      "text/plain": [
       "[(-1, 1), Text(0, 0.5, 'pearson correlation')]"
      ]
     },
     "execution_count": 9,
     "metadata": {},
     "output_type": "execute_result"
    },
    {
     "data": {
      "image/png": "[encoded data removed]",
      "text/plain": [
       "<Figure size 432x288 with 1 Axes>"
      ]
     },
     "metadata": {
      "needs_background": "light"
     },
     "output_type": "display_data"
    }
   ],
   "source": [
    "import matplotlib.pyplot as plt\n",
    "import seaborn as sns\n",
    "\n",
    "# The figure below shows Pearson Pairwise correlation of features to wine quality.\n",
    "# Looks like alcohol and density are the most correlated with quality\n",
    "ax = correlations.plot(kind='bar')\n",
    "ax.set(ylim=[-1, 1], ylabel='pearson correlation')"
   ]
  },
  {
   "cell_type": "code",
   "execution_count": 10,
   "metadata": {},
   "outputs": [
    {
     "name": "stdout",
     "output_type": "stream",
     "text": [
      "Index(['color_scaled', 'chlorides_scaled', 'volatile acidity_scaled',\n",
      "       'density_scaled', 'alcohol_scaled'],\n",
      "      dtype='object')\n"
     ]
    },
    {
     "name": "stderr",
     "output_type": "stream",
     "text": [
      "C:\\ProgramData\\Anaconda3\\lib\\site-packages\\sklearn\\preprocessing\\data.py:625: DataConversionWarning: Data with input dtype int64, float64 were all converted to float64 by StandardScaler.\n",
      "  return self.partial_fit(X, y)\n",
      "C:\\ProgramData\\Anaconda3\\lib\\site-packages\\sklearn\\base.py:462: DataConversionWarning: Data with input dtype int64, float64 were all converted to float64 by StandardScaler.\n",
      "  return self.fit(X, **fit_params).transform(X)\n"
     ]
    }
   ],
   "source": [
    "\n",
    "USE_MINMAXSCALER = False\n",
    "\n",
    "X = data[fields]\n",
    "if USE_MINMAXSCALER:\n",
    "    from sklearn.preprocessing import MinMaxScaler\n",
    "    scaler = MinMaxScaler()\n",
    "    X = scaler.fit_transform(X)\n",
    "else:\n",
    "    # Alternative to previous scalar\n",
    "    from sklearn.preprocessing import StandardScaler\n",
    "    scaler = StandardScaler()\n",
    "    # Fit on training set only.\n",
    "    X = scaler.fit_transform(X)\n",
    "\n",
    "X = pd.DataFrame(X, columns=['%s_scaled' % fld for fld in fields])\n",
    "print(X.columns) #scaled columns"
   ]
  },
  {
   "cell_type": "markdown",
   "metadata": {},
   "source": [
    "We will now run Logistic Regression algorithm to create a \"prediction model\"\n",
    "\n",
    "Since the data captured is in different magnitude ranges, it is generally a good idea to scale so one feature doesn’t get more influence than the other (in terms of scale)."
   ]
  },
  {
   "cell_type": "code",
   "execution_count": 11,
   "metadata": {},
   "outputs": [],
   "source": [
    "from sklearn.model_selection import train_test_split\n",
    "\n",
    "# test_size: what proportion of original data is used for test set\n",
    "X_train, X_test, y_train, y_test = train_test_split(\n",
    "    X, y, test_size=1/7.0, random_state=122)"
   ]
  },
  {
   "cell_type": "code",
   "execution_count": 13,
   "metadata": {},
   "outputs": [
    {
     "name": "stdout",
     "output_type": "stream",
     "text": [
      "[5 5 5 5 5 6 5 7 6 6 6 5 6 6 7 6 6 5 5 6 6 6 5 6 6 6 6 6 6 6 6 6 5 6 5 6 6\n",
      " 7 5 6 6 5 5 6 6 6 5 6 5 6 7 6 6 5 5 5 6 5 6 7 6 6 6 5 7 7 6 6 7 6 5 6 6 6\n",
      " 5 6 6 6 7 6 6 6 6 6 6 6 6 5 5 5 7 7 5 6 6 5 6 5 6 6 6 6 5 7 6 7 6 5 6 5 6\n",
      " 6 6 5 5 5 5 6 6 6 6 6 7 6 5 6 7 5 6 6 6 6 6 6 7 6 6 6 5 7 6 6 6 6 6 5 6 6\n",
      " 6 5 6 7 6 7 6 6 7 7 6 7 6 6 7 6 5 6 6 7 5 6 5 5 6 6 7 6 6 6 6 6 6 5 7 6 7\n",
      " 6 7 6 5 5 6 6 6 6 7 6 6 6 6 6 6 6 6 5 5 6 6 7 7 6 6 6 6 6 7 6 6 6 5 6 5 5\n",
      " 6 6 6 6 7 7 5 6 5 7 6 6 5 6 6 5 6 6 7 6 6 5 6 5 7 5 6 6 5 5 5 6 6 6 6 5 6\n",
      " 6 6 6 5 7 7 5 6 5 5 5 5 5 5 6 5 5 5 6 6 6 6 7 6 6 5 6 6 6 6 6 6 5 5 5 7 5\n",
      " 6 6 6 6 5 6 6 6 6 7 5 6 6 6 6 6 7 6 7 5 6 6 6 5 7 5 5 7 7 7 5 6 5 5 6 6 5\n",
      " 6 6 6 5 6 7 6 6 6 5 6 5 5 6 6 7 5 6 6 7 7 7 5 5 5 7 5 7 7 6 5 5 5 5 5 6 6\n",
      " 6 6 5 6 6 5 7 5 5 6 5 6 5 6 5 6 5 6 5 5 5 6 6 6 6 6 5 6 6 5 6 6 5 6 5 7 6\n",
      " 5 6 6 6 5 5 5 6 6 5 6 6 5 6 6 6 5 6 5 7 5 6 6 6 5 5 5 6 5 5 6 6 7 6 6 6 6\n",
      " 6 5 6 6 6 6 6 6 7 5 6 6 5 6 5 5 6 6 6 6 5 5 6 6 6 5 7 7 6 5 5 7 5 6 5 6 7\n",
      " 5 6 7 6 6 7 7 6 5 5 5 6 5 6 5 5 6 5 5 6 5 6 5 6 5 6 6 5 5 5 6 6 6 5 6 6 7\n",
      " 5 6 6 6 5 5 6 6 6 7 6 6 5 6 6 7 7 6 6 6 7 5 6 6 6 6 5 6 7 5 7 6 5 5 6 6 5\n",
      " 6 5 5 6 5 7 6 6 5 5 7 6 7 5 6 5 6 6 7 6 5 6 6 6 6 6 6 5 6 6 6 5 6 6 7 7 5\n",
      " 6 5 6 5 6 5 6 6 5 5 7 6 5 7 6 6 7 6 6 5 5 5 6 7 5 6 6 5 6 6 6 6 6 6 5 6 7\n",
      " 6 6 6 6 6 6 6 5 5 6 6 5 5 6 5 6 6 5 5 6 6 6 5 6 7 6 5 7 5 5 5 5 6 6 5 6 5\n",
      " 5 5 5 6 6 6 6 5 6 6 7 6 5 6 6 6 5 6 6 5 5 6 6 6 6 6 6 6 6 6 6 6 6 6 6 5 5\n",
      " 6 6 6 7 6 6 6 6 5 5 7 5 6 6 6 7 6 5 6 6 7 6 6 6 5 6 5 6 6 5 7 6 6 5 5 6 6\n",
      " 5 6 5 5 6 6 5 6 6 5 5 6 5 5 6 6 5 6 6 6 6 5 6 5 6 5 6 6 6 6 6 6 5 5 6 6 7\n",
      " 5 5 7 5 6 7 6 5 5 5 6 5 5 7 6 5 6 6 6 6 6 5 6 7 6 5 6 7 6 5 6 6 6 6 6 7 6\n",
      " 5 5 7 7 6 5 6 6 5 6 6 6 6 5 5 6 5 6 5 5 7 5 6 6 6 6 6 6 6 6 6 5 5 6 6 6 7\n",
      " 6 6 6 5 6 5 6 5 5 6 5 6 6 6]       color_scaled  chlorides_scaled  volatile acidity_scaled  density_scaled  \\\n",
      "3348     -0.578558         -0.383254                -0.477230       -0.220187   \n",
      "1017      1.728434          0.770665                 1.716169        0.515027   \n",
      "1211      1.728434          0.597577                 0.776141       -0.303734   \n",
      "185       1.728434          0.511033                 1.528163        0.682121   \n",
      "28        1.728434          0.741817                 1.935509        0.548446   \n",
      "1395      1.728434          0.164857                 0.901478        0.842532   \n",
      "3322     -0.578558          0.799513                -0.477230        2.119131   \n",
      "314       1.728434          1.895736                 0.149455        1.083147   \n",
      "5229     -0.578558         -0.642886                -0.414562        1.383917   \n",
      "1184      1.728434          0.049465                 0.400129       -0.206820   \n",
      "136       1.728434         -0.181319                 0.024118       -1.055658   \n",
      "1750     -0.578558         -0.065927                -0.602567       -0.520957   \n",
      "4515     -0.578558         -0.383254                -0.665236       -0.835094   \n",
      "81        1.728434          1.549560                 0.964146        0.815797   \n",
      "5583     -0.578558         -0.498646                -0.226556       -1.714009   \n",
      "4061     -0.578558         -0.815974                -0.414562       -0.400649   \n",
      "5978     -0.578558         -0.383254                -0.602567       -1.002188   \n",
      "1476      1.728434          0.280249                 3.408219        0.535078   \n",
      "1330      1.728434          0.770665                 1.653500        0.615284   \n",
      "4057     -0.578558         -0.239015                -0.226556       -1.309641   \n",
      "3106     -0.578558         -0.181319                -0.727905       -0.253606   \n",
      "4878     -0.578558         -0.210167                -0.727905       -0.434068   \n",
      "1709     -0.578558         -0.469798                 1.465495       -0.320444   \n",
      "5666     -0.578558         -0.094775                -0.665236        1.350498   \n",
      "3640     -0.578558         -0.325558                -0.351893        0.194206   \n",
      "5972     -0.578558         -0.873670                 0.400129       -1.416581   \n",
      "4020     -0.578558         -0.527494                -0.477230       -0.547692   \n",
      "4093     -0.578558         -0.527494                -1.041247        1.086489   \n",
      "4174     -0.578558         -0.065927                 0.525466        1.243558   \n",
      "3700     -0.578558         -0.181319                -0.727905        0.267728   \n",
      "...            ...               ...                      ...             ...   \n",
      "3898     -0.578558         -0.642886                -0.101219        1.544327   \n",
      "4808     -0.578558         -0.412102                -0.915910        1.029677   \n",
      "5127     -0.578558         -0.008231                -1.229253        0.120685   \n",
      "2134     -0.578558         -0.123623                -1.041247        0.347933   \n",
      "5704     -0.578558         -0.267863                -0.477230        1.216823   \n",
      "4245     -0.578558         -0.008231                -0.915910        0.214258   \n",
      "5206     -0.578558         -0.556342                -1.166584       -1.998069   \n",
      "718       1.728434          0.049465                 3.596225        0.164129   \n",
      "4223     -0.578558         -0.412102                -0.351893       -0.621213   \n",
      "4049     -0.578558          0.078313                -0.038551        1.357182   \n",
      "821       1.728434         -0.498646                 4.222910       -0.397307   \n",
      "1675     -0.578558         -0.037079                -0.289225        0.682121   \n",
      "5810     -0.578558         -0.758278                -0.602567       -1.697299   \n",
      "1961     -0.578558         -0.440950                -0.727905       -0.654632   \n",
      "5005     -0.578558          0.020617                -0.790573       -1.002188   \n",
      "4790     -0.578558         -0.787126                 0.274792       -1.389846   \n",
      "4159     -0.578558         -0.758278                -0.665236       -1.670564   \n",
      "2434     -0.578558         -0.181319                -0.915910       -0.387281   \n",
      "4691     -0.578558         -0.556342                -1.448593       -1.189333   \n",
      "5865     -0.578558         -0.440950                -0.226556        0.611942   \n",
      "4296     -0.578558         -0.181319                -0.978579        0.234309   \n",
      "244       1.728434          0.539881                 2.248851        0.682121   \n",
      "1181      1.728434          0.395641                 1.340157        0.611942   \n",
      "3875     -0.578558         -0.498646                -0.414562        0.354617   \n",
      "165       1.728434          0.828361                 1.026815        0.347933   \n",
      "3016     -0.578558         -0.239015                -0.602567        0.481608   \n",
      "1484      1.728434          0.568729                 2.248851        0.234309   \n",
      "2335     -0.578558         -0.729430                -0.477230       -1.323009   \n",
      "4334     -0.578558         -0.671734                -0.978579       -1.717351   \n",
      "4645     -0.578558         -0.931366                -0.414562       -0.754888   \n",
      "\n",
      "      alcohol_scaled  \n",
      "3348        0.114794  \n",
      "1017       -0.225476  \n",
      "1211        0.625200  \n",
      "185        -0.225476  \n",
      "28         -0.565747  \n",
      "1395       -0.395612  \n",
      "3322       -1.416423  \n",
      "314         1.731079  \n",
      "5229       -1.076153  \n",
      "1184        1.475877  \n",
      "136         3.007094  \n",
      "1750       -0.991085  \n",
      "4515       -0.225476  \n",
      "81         -0.480679  \n",
      "5583        2.241485  \n",
      "4061        0.625200  \n",
      "5978        0.455065  \n",
      "1476       -0.480679  \n",
      "1330       -0.225476  \n",
      "4057        1.390809  \n",
      "3106       -0.480679  \n",
      "4878       -0.395612  \n",
      "1709       -0.225476  \n",
      "5666       -0.225476  \n",
      "3640       -0.991085  \n",
      "5972        1.646012  \n",
      "4020       -0.055341  \n",
      "4093       -1.331356  \n",
      "4174       -1.246288  \n",
      "3700       -0.565747  \n",
      "...              ...  \n",
      "3898       -1.246288  \n",
      "4808       -0.820950  \n",
      "5127       -0.480679  \n",
      "2134       -0.735882  \n",
      "5704       -1.161220  \n",
      "4245       -0.480679  \n",
      "5206        1.816147  \n",
      "718         0.199862  \n",
      "4223       -1.246288  \n",
      "4049       -0.395612  \n",
      "821         0.880403  \n",
      "1675       -0.991085  \n",
      "5810        1.646012  \n",
      "1961       -0.055341  \n",
      "5005        0.369997  \n",
      "4790        1.816147  \n",
      "4159        1.390809  \n",
      "2434       -0.565747  \n",
      "4691        0.540132  \n",
      "5865       -0.565747  \n",
      "4296        0.029727  \n",
      "244        -1.076153  \n",
      "1181       -0.906017  \n",
      "3875       -0.906017  \n",
      "165        -0.820950  \n",
      "3016        0.029727  \n",
      "1484       -0.310544  \n",
      "2335        0.455065  \n",
      "4334        1.646012  \n",
      "4645        0.795335  \n",
      "\n",
      "[865 rows x 5 columns]\n"
     ]
    }
   ],
   "source": [
    "from sklearn.tree import DecisionTreeClassifier\n",
    "\n",
    "dtree = DecisionTreeClassifier(max_depth=10, random_state=101,\n",
    "                            max_features = None, min_samples_leaf = 30)\n",
    "\n",
    "# fit the model with training data\n",
    "dtree.fit(X_train, y_train)\n",
    "\n",
    "# predict the wine rankings for the test data set\n",
    "y_pred = dtree.predict(X_test)\n",
    "print(y_pred,X_test)\n"
   ]
  },
  {
   "cell_type": "code",
   "execution_count": 14,
   "metadata": {},
   "outputs": [
    {
     "name": "stdout",
     "output_type": "stream",
     "text": [
      "Misclassified samples: 397\n",
      "Accuracy: 0.54\n"
     ]
    }
   ],
   "source": [
    "from sklearn.metrics import accuracy_score\n",
    "\n",
    "# how did our model perform?\n",
    "count_misclassified = (y_test != y_pred).sum()\n",
    "print('Misclassified samples: {}'.format(count_misclassified))\n",
    "accuracy = accuracy_score(y_test, y_pred)\n",
    "print('Accuracy: {:.2f}'.format(accuracy))"
   ]
  },
  {
   "cell_type": "markdown",
   "metadata": {},
   "source": [
    "### About Confusion Matrix\n",
    "\n",
    "A confusion matrix is a table that is often used to describe the performance of a classification model (or \"classifier\") \n",
    "on a set of test data for which the true values are known.\n",
    "\n",
    "Here is a set of the most basic terms, which are whole numbers (not rates):\n",
    "1. true positives (TP): These are cases in which we predicted \"yes\" where it is actually \"yes\".\n",
    "2. true negatives (TN): We predicted no, and it is actually \"no\".\n",
    "3. false positives (FP): We predicted \"yes\", and was actually \"no\" (Also known as a \"Type I error.\"\n",
    "4. false negatives (FN): We predicted \"no\", and was actually \"yes\". (Also known as a \"Type II error.\")\n",
    "    \n",
    "This is a list of rates that are often computed from a confusion matrix for a binary classifier:\n",
    "\n",
    "**Accuracy**: Overall, how often is the classifier correct? \n",
    "    <br>&emsp;accuracy = (TP+TN)/total\n",
    "\n",
    "**Misclassification Rate**: Overall, how often is it wrong? \n",
    "    <br>&emsp;misrate = (FP+FN)/total\n",
    "    <br>&emsp;equivalent to 1 minus Accuracy\n",
    "    <br>&emsp;also known as \"Error Rate\"\n",
    "\n",
    "**True Positive Rate**: When it's actually yes, how often does it predict yes? \n",
    "    <br>&emsp;tprate = TP/actual_yes\n",
    "    <br>&emsp;also known as \"Sensitivity\" or \"Recall\"\n",
    "\n",
    "**False Positive Rate**: When it's actually no, how often does it predict yes?\n",
    "    <br>&emsp;fprate = FP/actual_no\n",
    "\n",
    "**True Negative Rate**: When it's actually no, how often does it predict no? \n",
    "    <br>&emsp;tnrate = TN/actual_no\n",
    "    <br>&emsp;equivalent to 1 minus False Positive Rate\n",
    "    <br>&emsp;also known as \"Specificity\"\n",
    "\n",
    "**Precision**: When it predicts yes, how often is it correct? \n",
    "    <br>&emsp;precision = TP/predicted_yes\n",
    "\n",
    "**Prevalence**: How often does the yes condition actually occur in our sample? \n",
    "    <br>&emsp;prevalence = actual_yes/total\n",
    "    \n",
    "![Confusion Matrix - Theoretical Foundation](https://raw.githubusercontent.com/antongeorgescu/machine-learning-documentation/master/images/Confusion-Matrix-2.PNG) "
   ]
  },
  {
   "cell_type": "code",
   "execution_count": 15,
   "metadata": {},
   "outputs": [
    {
     "name": "stdout",
     "output_type": "stream",
     "text": [
      "Accuracy: 0.5410\n",
      "F1_Score: 0.5410\n",
      "[[160 121   8]\n",
      " [100 263  52]\n",
      " [ 12 104  45]]\n"
     ]
    },
    {
     "data": {
      "image/png": "[encoded data removed]",
      "text/plain": [
       "<Figure size 432x288 with 2 Axes>"
      ]
     },
     "metadata": {
      "needs_background": "light"
     },
     "output_type": "display_data"
    }
   ],
   "source": [
    "from sklearn.metrics import confusion_matrix,f1_score\n",
    "\n",
    "# Calculate the accuracy of prediction\n",
    "# Get the accuracy score\n",
    "accuracy = accuracy_score(y_test, y_pred)\n",
    "print('Accuracy: {:.4f}'.format(accuracy))\n",
    "\n",
    "f1score = f1_score(y_test, y_pred, average='micro')\n",
    "print('F1_Score: {:.4f}'.format(f1score))\n",
    "\n",
    "# Get the confusion matrix\n",
    "cm = confusion_matrix(y_test, y_pred)\n",
    "print(cm)\n",
    "cm = cm.astype('float') / cm.sum(axis=1)[:, np.newaxis]\n",
    "\n",
    "sns.heatmap(cm, annot=True, fmt='.2g');\n",
    "plt.title('Confusion matrix of the KNN classifier')    \n",
    "plt.tight_layout()"
   ]
  },
  {
   "cell_type": "code",
   "execution_count": null,
   "metadata": {},
   "outputs": [],
   "source": [
    "import sys, os\n",
    "\n",
    "summaryfile = 'ModelsFitness.txt'\n",
    "nbdir = os.getcwd()\n",
    "fsummary = open(f'{nbdir}\\\\{summaryfile}',\"a\") \n",
    "fsummary.write('Wine Quality Analysis with Decision Tree\\tAccuracy: {:.4f}\\tF1-Score: {:.4f}\\r\\n'.format(accuracy,f1score))\n",
    "fsummary.close() "
   ]
  }
 ],
 "metadata": {
  "kernelspec": {
   "display_name": "Python 3",
   "language": "python",
   "name": "python3"
  },
  "language_info": {
   "codemirror_mode": {
    "name": "ipython",
    "version": 3
   },
   "file_extension": ".py",
   "mimetype": "text/x-python",
   "name": "python",
   "nbconvert_exporter": "python",
   "pygments_lexer": "ipython3",
   "version": "3.7.1"
  }
 },
 "nbformat": 4,
 "nbformat_minor": 2
}
